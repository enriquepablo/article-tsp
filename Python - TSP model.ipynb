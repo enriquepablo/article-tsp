{
 "cells": [
  {
   "cell_type": "markdown",
   "id": "a0178fde",
   "metadata": {},
   "source": [
    "## Python: Training models"
   ]
  },
  {
   "cell_type": "markdown",
   "id": "3e46e469",
   "metadata": {},
   "source": [
    "Here we use some Python code to demonstrate how we use the TSP data generated like shown [here](Python%20-%20TSP%20data.ipynb)\n",
    "to train ML models."
   ]
  },
  {
   "cell_type": "code",
   "execution_count": 1,
   "id": "630e9b2f",
   "metadata": {
    "scrolled": true
   },
   "outputs": [
    {
     "name": "stderr",
     "output_type": "stream",
     "text": [
      "2023-02-13 20:23:40.922096: I tensorflow/core/platform/cpu_feature_guard.cc:193] This TensorFlow binary is optimized with oneAPI Deep Neural Network Library (oneDNN) to use the following CPU instructions in performance-critical operations:  AVX2 FMA\n",
      "To enable them in other operations, rebuild TensorFlow with the appropriate compiler flags.\n",
      "2023-02-13 20:23:41.208173: W tensorflow/stream_executor/platform/default/dso_loader.cc:64] Could not load dynamic library 'libcudart.so.11.0'; dlerror: libcudart.so.11.0: cannot open shared object file: No such file or directory\n",
      "2023-02-13 20:23:41.208196: I tensorflow/stream_executor/cuda/cudart_stub.cc:29] Ignore above cudart dlerror if you do not have a GPU set up on your machine.\n",
      "2023-02-13 20:23:41.269564: E tensorflow/stream_executor/cuda/cuda_blas.cc:2981] Unable to register cuBLAS factory: Attempting to register factory for plugin cuBLAS when one has already been registered\n",
      "2023-02-13 20:23:42.957514: W tensorflow/stream_executor/platform/default/dso_loader.cc:64] Could not load dynamic library 'libnvinfer.so.7'; dlerror: libnvinfer.so.7: cannot open shared object file: No such file or directory\n",
      "2023-02-13 20:23:42.957608: W tensorflow/stream_executor/platform/default/dso_loader.cc:64] Could not load dynamic library 'libnvinfer_plugin.so.7'; dlerror: libnvinfer_plugin.so.7: cannot open shared object file: No such file or directory\n",
      "2023-02-13 20:23:42.957618: W tensorflow/compiler/tf2tensorrt/utils/py_utils.cc:38] TF-TRT Warning: Cannot dlopen some TensorRT libraries. If you would like to use Nvidia GPU with TensorRT, please make sure the missing libraries mentioned above are installed properly.\n"
     ]
    }
   ],
   "source": [
    "import tsp_utils as tsp"
   ]
  },
  {
   "cell_type": "markdown",
   "id": "e6b660f0",
   "metadata": {},
   "source": [
    "Some parameters: we use dataset `datasets-20`, which includes data on instances of the TSP with 20 cities each.\n",
    "We use \"adam\" as optimizer, and \"relu\" activation.\n",
    "And we use both data obtained from the sink node,\n",
    "and from the nodes that are just one generator away from the sink."
   ]
  },
  {
   "cell_type": "code",
   "execution_count": 2,
   "id": "c42b4b2c",
   "metadata": {},
   "outputs": [],
   "source": [
    "dataset = 'datasets-20-corrected'\n",
    "\n",
    "optimizer = 'adam'\n",
    "activation = 'relu'"
   ]
  },
  {
   "cell_type": "markdown",
   "id": "0af300e1",
   "metadata": {},
   "source": [
    "We use these parameters to produce a model:"
   ]
  },
  {
   "cell_type": "code",
   "execution_count": 3,
   "id": "5ac3c616",
   "metadata": {
    "scrolled": true
   },
   "outputs": [
    {
     "name": "stderr",
     "output_type": "stream",
     "text": [
      "/home/sage/nb/tsp/article/tsp_utils.py:466: VisibleDeprecationWarning: Creating an ndarray from ragged nested sequences (which is a list-or-tuple of lists-or-tuples-or ndarrays with different lengths or shapes) is deprecated. If you meant to do this, you must specify 'dtype=object' when creating the ndarray.\n",
      "  posset = np.array(list(zip(posset, np.ones(len(posset)))))\n",
      "/home/sage/nb/tsp/article/tsp_utils.py:467: VisibleDeprecationWarning: Creating an ndarray from ragged nested sequences (which is a list-or-tuple of lists-or-tuples-or ndarrays with different lengths or shapes) is deprecated. If you meant to do this, you must specify 'dtype=object' when creating the ndarray.\n",
      "  negset = np.array(list(zip(negset, np.zeros(len(negset)))))\n",
      "2023-02-13 20:23:57.379795: W tensorflow/stream_executor/platform/default/dso_loader.cc:64] Could not load dynamic library 'libcuda.so.1'; dlerror: libcuda.so.1: cannot open shared object file: No such file or directory\n",
      "2023-02-13 20:23:57.379903: W tensorflow/stream_executor/cuda/cuda_driver.cc:263] failed call to cuInit: UNKNOWN ERROR (303)\n",
      "2023-02-13 20:23:57.379973: I tensorflow/stream_executor/cuda/cuda_diagnostics.cc:156] kernel driver does not appear to be running on this host (875a3c16dc13): /proc/driver/nvidia/version does not exist\n",
      "2023-02-13 20:23:57.380475: I tensorflow/core/platform/cpu_feature_guard.cc:193] This TensorFlow binary is optimized with oneAPI Deep Neural Network Library (oneDNN) to use the following CPU instructions in performance-critical operations:  AVX2 FMA\n",
      "To enable them in other operations, rebuild TensorFlow with the appropriate compiler flags.\n"
     ]
    },
    {
     "name": "stdout",
     "output_type": "stream",
     "text": [
      "Epoch 1/114\n",
      "115/115 [==============================] - 2s 6ms/step - loss: 0.7041 - accuracy: 0.5472\n",
      "Epoch 2/114\n",
      "115/115 [==============================] - 1s 7ms/step - loss: 0.6457 - accuracy: 0.6067\n",
      "Epoch 3/114\n",
      "115/115 [==============================] - 1s 7ms/step - loss: 0.6153 - accuracy: 0.6408\n",
      "Epoch 4/114\n",
      "115/115 [==============================] - 1s 6ms/step - loss: 0.5831 - accuracy: 0.6754\n",
      "Epoch 5/114\n",
      "115/115 [==============================] - 1s 6ms/step - loss: 0.5529 - accuracy: 0.6986\n",
      "Epoch 6/114\n",
      "115/115 [==============================] - 1s 7ms/step - loss: 0.5185 - accuracy: 0.7261\n",
      "Epoch 7/114\n",
      "115/115 [==============================] - 1s 6ms/step - loss: 0.5017 - accuracy: 0.7338\n",
      "Epoch 8/114\n",
      "115/115 [==============================] - 1s 6ms/step - loss: 0.4798 - accuracy: 0.7530\n",
      "Epoch 9/114\n",
      "115/115 [==============================] - 1s 7ms/step - loss: 0.4539 - accuracy: 0.7677\n",
      "Epoch 10/114\n",
      "115/115 [==============================] - 1s 6ms/step - loss: 0.4251 - accuracy: 0.7851\n",
      "Epoch 11/114\n",
      "115/115 [==============================] - 1s 6ms/step - loss: 0.4140 - accuracy: 0.7945\n",
      "Epoch 12/114\n",
      "115/115 [==============================] - 1s 7ms/step - loss: 0.4006 - accuracy: 0.8057\n",
      "Epoch 13/114\n",
      "115/115 [==============================] - 1s 7ms/step - loss: 0.3792 - accuracy: 0.8099\n",
      "Epoch 14/114\n",
      "115/115 [==============================] - 1s 6ms/step - loss: 0.3629 - accuracy: 0.8208\n",
      "Epoch 15/114\n",
      "115/115 [==============================] - 1s 7ms/step - loss: 0.3579 - accuracy: 0.8260\n",
      "Epoch 16/114\n",
      "115/115 [==============================] - 1s 6ms/step - loss: 0.3485 - accuracy: 0.8244\n",
      "Epoch 17/114\n",
      "115/115 [==============================] - 1s 6ms/step - loss: 0.3286 - accuracy: 0.8369\n",
      "Epoch 18/114\n",
      "115/115 [==============================] - 1s 6ms/step - loss: 0.3207 - accuracy: 0.8440\n",
      "Epoch 19/114\n",
      "115/115 [==============================] - 1s 6ms/step - loss: 0.3062 - accuracy: 0.8472\n",
      "Epoch 20/114\n",
      "115/115 [==============================] - 1s 6ms/step - loss: 0.3038 - accuracy: 0.8537\n",
      "Epoch 21/114\n",
      "115/115 [==============================] - 1s 6ms/step - loss: 0.2918 - accuracy: 0.8604\n",
      "Epoch 22/114\n",
      "115/115 [==============================] - 1s 6ms/step - loss: 0.2939 - accuracy: 0.8549\n",
      "Epoch 23/114\n",
      "115/115 [==============================] - 1s 7ms/step - loss: 0.2821 - accuracy: 0.8620\n",
      "Epoch 24/114\n",
      "115/115 [==============================] - 1s 7ms/step - loss: 0.2756 - accuracy: 0.8713\n",
      "Epoch 25/114\n",
      "115/115 [==============================] - 1s 7ms/step - loss: 0.2617 - accuracy: 0.8760\n",
      "Epoch 26/114\n",
      "115/115 [==============================] - 1s 7ms/step - loss: 0.2601 - accuracy: 0.8702\n",
      "Epoch 27/114\n",
      "115/115 [==============================] - 1s 7ms/step - loss: 0.2598 - accuracy: 0.8758\n",
      "Epoch 28/114\n",
      "115/115 [==============================] - 1s 7ms/step - loss: 0.2486 - accuracy: 0.8805\n",
      "Epoch 29/114\n",
      "115/115 [==============================] - 1s 7ms/step - loss: 0.2473 - accuracy: 0.8833\n",
      "Epoch 30/114\n",
      "115/115 [==============================] - 1s 6ms/step - loss: 0.2350 - accuracy: 0.8896\n",
      "Epoch 31/114\n",
      "115/115 [==============================] - 1s 7ms/step - loss: 0.2328 - accuracy: 0.8938\n",
      "Epoch 32/114\n",
      "115/115 [==============================] - 1s 6ms/step - loss: 0.2318 - accuracy: 0.8881\n",
      "Epoch 33/114\n",
      "115/115 [==============================] - 1s 6ms/step - loss: 0.2272 - accuracy: 0.8955\n",
      "Epoch 34/114\n",
      "115/115 [==============================] - 1s 6ms/step - loss: 0.2097 - accuracy: 0.9024\n",
      "Epoch 35/114\n",
      "115/115 [==============================] - 1s 6ms/step - loss: 0.2212 - accuracy: 0.8972\n",
      "Epoch 36/114\n",
      "115/115 [==============================] - 1s 6ms/step - loss: 0.2193 - accuracy: 0.8948\n",
      "Epoch 37/114\n",
      "115/115 [==============================] - 1s 7ms/step - loss: 0.2076 - accuracy: 0.9007\n",
      "Epoch 38/114\n",
      "115/115 [==============================] - 1s 6ms/step - loss: 0.1941 - accuracy: 0.9071\n",
      "Epoch 39/114\n",
      "115/115 [==============================] - 1s 6ms/step - loss: 0.2087 - accuracy: 0.9007\n",
      "Epoch 40/114\n",
      "115/115 [==============================] - 1s 7ms/step - loss: 0.1917 - accuracy: 0.9091\n",
      "Epoch 41/114\n",
      "115/115 [==============================] - 1s 6ms/step - loss: 0.2058 - accuracy: 0.9019\n",
      "Epoch 42/114\n",
      "115/115 [==============================] - 1s 6ms/step - loss: 0.1947 - accuracy: 0.9147\n",
      "Epoch 43/114\n",
      "115/115 [==============================] - 1s 6ms/step - loss: 0.1932 - accuracy: 0.9067\n",
      "Epoch 44/114\n",
      "115/115 [==============================] - 1s 6ms/step - loss: 0.1874 - accuracy: 0.9129\n",
      "Epoch 45/114\n",
      "115/115 [==============================] - 1s 6ms/step - loss: 0.1793 - accuracy: 0.9163\n",
      "Epoch 46/114\n",
      "115/115 [==============================] - 1s 6ms/step - loss: 0.1879 - accuracy: 0.9143\n",
      "Epoch 47/114\n",
      "115/115 [==============================] - 1s 6ms/step - loss: 0.1774 - accuracy: 0.9169\n",
      "Epoch 48/114\n",
      "115/115 [==============================] - 1s 6ms/step - loss: 0.1743 - accuracy: 0.9217\n",
      "Epoch 49/114\n",
      "115/115 [==============================] - 1s 6ms/step - loss: 0.1598 - accuracy: 0.9234\n",
      "Epoch 50/114\n",
      "115/115 [==============================] - 1s 6ms/step - loss: 0.1680 - accuracy: 0.9239\n",
      "Epoch 51/114\n",
      "115/115 [==============================] - 1s 6ms/step - loss: 0.1629 - accuracy: 0.9224\n",
      "Epoch 52/114\n",
      "115/115 [==============================] - 1s 6ms/step - loss: 0.1625 - accuracy: 0.9258\n",
      "Epoch 53/114\n",
      "115/115 [==============================] - 1s 6ms/step - loss: 0.1568 - accuracy: 0.9301\n",
      "Epoch 54/114\n",
      "115/115 [==============================] - 1s 6ms/step - loss: 0.1647 - accuracy: 0.9243\n",
      "Epoch 55/114\n",
      "115/115 [==============================] - 1s 7ms/step - loss: 0.1625 - accuracy: 0.9270\n",
      "Epoch 56/114\n",
      "115/115 [==============================] - 1s 6ms/step - loss: 0.1515 - accuracy: 0.9319\n",
      "Epoch 57/114\n",
      "115/115 [==============================] - 1s 7ms/step - loss: 0.1376 - accuracy: 0.9371\n",
      "Epoch 58/114\n",
      "115/115 [==============================] - 1s 7ms/step - loss: 0.1393 - accuracy: 0.9379\n",
      "Epoch 59/114\n",
      "115/115 [==============================] - 1s 6ms/step - loss: 0.1272 - accuracy: 0.9415\n",
      "Epoch 60/114\n",
      "115/115 [==============================] - 1s 6ms/step - loss: 0.1389 - accuracy: 0.9360\n",
      "Epoch 61/114\n",
      "115/115 [==============================] - 1s 7ms/step - loss: 0.1372 - accuracy: 0.9350\n",
      "Epoch 62/114\n",
      "115/115 [==============================] - 1s 7ms/step - loss: 0.1320 - accuracy: 0.9435\n",
      "Epoch 63/114\n",
      "115/115 [==============================] - 1s 6ms/step - loss: 0.1358 - accuracy: 0.9423\n",
      "Epoch 64/114\n",
      "115/115 [==============================] - 1s 6ms/step - loss: 0.1269 - accuracy: 0.9423\n",
      "Epoch 65/114\n",
      "115/115 [==============================] - 1s 6ms/step - loss: 0.1201 - accuracy: 0.9439\n",
      "Epoch 66/114\n",
      "115/115 [==============================] - 1s 6ms/step - loss: 0.1336 - accuracy: 0.9421\n",
      "Epoch 67/114\n",
      "115/115 [==============================] - 1s 7ms/step - loss: 0.1287 - accuracy: 0.9424\n",
      "Epoch 68/114\n",
      "115/115 [==============================] - 1s 6ms/step - loss: 0.1288 - accuracy: 0.9379\n",
      "Epoch 69/114\n",
      "115/115 [==============================] - 1s 6ms/step - loss: 0.1268 - accuracy: 0.9423\n",
      "Epoch 70/114\n",
      "115/115 [==============================] - 1s 6ms/step - loss: 0.1093 - accuracy: 0.9486\n",
      "Epoch 71/114\n",
      "115/115 [==============================] - 1s 6ms/step - loss: 0.1207 - accuracy: 0.9436\n",
      "Epoch 72/114\n",
      "115/115 [==============================] - 1s 6ms/step - loss: 0.1169 - accuracy: 0.9535\n",
      "Epoch 73/114\n",
      "115/115 [==============================] - 1s 7ms/step - loss: 0.1171 - accuracy: 0.9511\n",
      "Epoch 74/114\n",
      "115/115 [==============================] - 1s 6ms/step - loss: 0.1107 - accuracy: 0.9567\n",
      "Epoch 75/114\n",
      "115/115 [==============================] - 1s 6ms/step - loss: 0.1033 - accuracy: 0.9580\n",
      "Epoch 76/114\n",
      "115/115 [==============================] - 1s 6ms/step - loss: 0.0973 - accuracy: 0.9610\n",
      "Epoch 77/114\n",
      "115/115 [==============================] - 1s 7ms/step - loss: 0.1201 - accuracy: 0.9532\n",
      "Epoch 78/114\n",
      "115/115 [==============================] - 1s 7ms/step - loss: 0.1124 - accuracy: 0.9539\n",
      "Epoch 79/114\n",
      "115/115 [==============================] - 1s 7ms/step - loss: 0.1041 - accuracy: 0.9584\n",
      "Epoch 80/114\n",
      "115/115 [==============================] - 1s 6ms/step - loss: 0.1056 - accuracy: 0.9563\n",
      "Epoch 81/114\n"
     ]
    },
    {
     "name": "stdout",
     "output_type": "stream",
     "text": [
      "115/115 [==============================] - 1s 6ms/step - loss: 0.0870 - accuracy: 0.9663\n",
      "Epoch 82/114\n",
      "115/115 [==============================] - 1s 6ms/step - loss: 0.1055 - accuracy: 0.9595\n",
      "Epoch 83/114\n",
      "115/115 [==============================] - 1s 6ms/step - loss: 0.1059 - accuracy: 0.9569\n",
      "Epoch 84/114\n",
      "115/115 [==============================] - 1s 6ms/step - loss: 0.0947 - accuracy: 0.9621\n",
      "Epoch 85/114\n",
      "115/115 [==============================] - 1s 7ms/step - loss: 0.1035 - accuracy: 0.9593\n",
      "Epoch 86/114\n",
      "115/115 [==============================] - 1s 7ms/step - loss: 0.0933 - accuracy: 0.9662\n",
      "Epoch 87/114\n",
      "115/115 [==============================] - 1s 6ms/step - loss: 0.0909 - accuracy: 0.9642\n",
      "Epoch 88/114\n",
      "115/115 [==============================] - 1s 6ms/step - loss: 0.0936 - accuracy: 0.9647\n",
      "Epoch 89/114\n",
      "115/115 [==============================] - 1s 6ms/step - loss: 0.1027 - accuracy: 0.9608\n",
      "Epoch 90/114\n",
      "115/115 [==============================] - 1s 7ms/step - loss: 0.0950 - accuracy: 0.9653\n",
      "Epoch 91/114\n",
      "115/115 [==============================] - 1s 6ms/step - loss: 0.0900 - accuracy: 0.9660\n",
      "Epoch 92/114\n",
      "115/115 [==============================] - 1s 6ms/step - loss: 0.0979 - accuracy: 0.9645\n",
      "Epoch 93/114\n",
      "115/115 [==============================] - 1s 6ms/step - loss: 0.0876 - accuracy: 0.9667\n",
      "Epoch 94/114\n",
      "115/115 [==============================] - 1s 7ms/step - loss: 0.0953 - accuracy: 0.9618\n",
      "Epoch 95/114\n",
      "115/115 [==============================] - 1s 6ms/step - loss: 0.0892 - accuracy: 0.9653\n",
      "Epoch 96/114\n",
      "115/115 [==============================] - 1s 6ms/step - loss: 0.0792 - accuracy: 0.9709\n",
      "Epoch 97/114\n",
      "115/115 [==============================] - 1s 6ms/step - loss: 0.0866 - accuracy: 0.9693\n",
      "Epoch 98/114\n",
      "115/115 [==============================] - 1s 6ms/step - loss: 0.0859 - accuracy: 0.9660\n",
      "Epoch 99/114\n",
      "115/115 [==============================] - 1s 6ms/step - loss: 0.0852 - accuracy: 0.9675\n",
      "Epoch 100/114\n",
      "115/115 [==============================] - 1s 6ms/step - loss: 0.1007 - accuracy: 0.9608\n",
      "Epoch 101/114\n",
      "115/115 [==============================] - 1s 6ms/step - loss: 0.0793 - accuracy: 0.9693\n",
      "Epoch 102/114\n",
      "115/115 [==============================] - 1s 6ms/step - loss: 0.0835 - accuracy: 0.9694\n",
      "Epoch 103/114\n",
      "115/115 [==============================] - 1s 6ms/step - loss: 0.0817 - accuracy: 0.9716\n",
      "Epoch 104/114\n",
      "115/115 [==============================] - 1s 7ms/step - loss: 0.0924 - accuracy: 0.9641\n",
      "Epoch 105/114\n",
      "115/115 [==============================] - 1s 7ms/step - loss: 0.0840 - accuracy: 0.9708\n",
      "Epoch 106/114\n",
      "115/115 [==============================] - 1s 7ms/step - loss: 0.0722 - accuracy: 0.9722\n",
      "Epoch 107/114\n",
      "115/115 [==============================] - 1s 7ms/step - loss: 0.0664 - accuracy: 0.9767\n",
      "Epoch 108/114\n",
      "115/115 [==============================] - 1s 7ms/step - loss: 0.0750 - accuracy: 0.9722\n",
      "Epoch 109/114\n",
      "115/115 [==============================] - 1s 7ms/step - loss: 0.0788 - accuracy: 0.9689\n",
      "Epoch 110/114\n",
      "115/115 [==============================] - 1s 7ms/step - loss: 0.0812 - accuracy: 0.9707\n",
      "Epoch 111/114\n",
      "115/115 [==============================] - 1s 6ms/step - loss: 0.0754 - accuracy: 0.9708\n",
      "Epoch 112/114\n",
      "115/115 [==============================] - 1s 6ms/step - loss: 0.0709 - accuracy: 0.9707\n",
      "Epoch 113/114\n",
      "115/115 [==============================] - 1s 7ms/step - loss: 0.0828 - accuracy: 0.9711\n",
      "Epoch 114/114\n",
      "115/115 [==============================] - 1s 6ms/step - loss: 0.0744 - accuracy: 0.9709\n"
     ]
    }
   ],
   "source": [
    "model, scaler = tsp.make_model(dataset, optimizer=optimizer, activation=activation)"
   ]
  },
  {
   "cell_type": "markdown",
   "id": "f6e98370",
   "metadata": {},
   "source": [
    "And we use this model to test some data points,\n",
    "first, taken from those used to train the model,\n",
    "and second, data points never before seen by the model.\n",
    "\n",
    "What this `check_model` function does is basically to print confusion matrices\n",
    "of the predictions on the test data."
   ]
  },
  {
   "cell_type": "code",
   "execution_count": 5,
   "id": "297e5700",
   "metadata": {},
   "outputs": [
    {
     "name": "stderr",
     "output_type": "stream",
     "text": [
      "/home/sage/nb/tsp/article/tsp_utils.py:466: VisibleDeprecationWarning: Creating an ndarray from ragged nested sequences (which is a list-or-tuple of lists-or-tuples-or ndarrays with different lengths or shapes) is deprecated. If you meant to do this, you must specify 'dtype=object' when creating the ndarray.\n",
      "  posset = np.array(list(zip(posset, np.ones(len(posset)))))\n",
      "/home/sage/nb/tsp/article/tsp_utils.py:467: VisibleDeprecationWarning: Creating an ndarray from ragged nested sequences (which is a list-or-tuple of lists-or-tuples-or ndarrays with different lengths or shapes) is deprecated. If you meant to do this, you must specify 'dtype=object' when creating the ndarray.\n",
      "  negset = np.array(list(zip(negset, np.zeros(len(negset)))))\n"
     ]
    },
    {
     "name": "stdout",
     "output_type": "stream",
     "text": [
      "5/5 [==============================] - 0s 4ms/step - loss: 1.4348 - accuracy: 0.6842\n",
      "5/5 [==============================] - 0s 4ms/step\n",
      "tf.Tensor(\n",
      "[[17 16]\n",
      " [26 74]], shape=(2, 2), dtype=int32)\n"
     ]
    }
   ],
   "source": [
    "tsp.check_model(model, scaler, dataset)"
   ]
  },
  {
   "cell_type": "code",
   "execution_count": null,
   "id": "0838f035",
   "metadata": {},
   "outputs": [],
   "source": []
  }
 ],
 "metadata": {
  "kernelspec": {
   "display_name": "Python 3 (ipykernel)",
   "language": "python",
   "name": "python3"
  },
  "language_info": {
   "codemirror_mode": {
    "name": "ipython",
    "version": 3
   },
   "file_extension": ".py",
   "mimetype": "text/x-python",
   "name": "python",
   "nbconvert_exporter": "python",
   "pygments_lexer": "ipython3",
   "version": "3.9.5"
  }
 },
 "nbformat": 4,
 "nbformat_minor": 5
}
