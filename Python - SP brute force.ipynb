{
 "cells": [
  {
   "cell_type": "markdown",
   "id": "f502ef30",
   "metadata": {},
   "source": [
    "## Python: solving the SP - naïve method"
   ]
  },
  {
   "cell_type": "markdown",
   "id": "6698bc5a",
   "metadata": {},
   "source": [
    "Here we use a Python implementation of the naïve method to solve the SP,\n",
    "and show it to be extremelly inefficient.\n",
    "\n",
    "First we import some code.\n",
    "Note in particular the `solve_sp` function from our companion [utils.py](utils.py) module:"
   ]
  },
  {
   "cell_type": "code",
   "execution_count": 1,
   "id": "520cd674",
   "metadata": {},
   "outputs": [],
   "source": [
    "from timeit import timeit\n",
    "\n",
    "import numpy as np\n",
    "\n",
    "from utils import solve_sp"
   ]
  },
  {
   "cell_type": "markdown",
   "id": "2083299e",
   "metadata": {},
   "source": [
    "Then we use it to sort some lists.\n",
    "It is easy to see that as our lists get longer,\n",
    "the performance suffers tremendously."
   ]
  },
  {
   "cell_type": "code",
   "execution_count": 4,
   "id": "d539b846",
   "metadata": {},
   "outputs": [
    {
     "name": "stdout",
     "output_type": "stream",
     "text": [
      "[(0, 1, 2, 3, 4, 5)]\n"
     ]
    },
    {
     "data": {
      "text/plain": [
       "0.0013982060008856934"
      ]
     },
     "execution_count": 4,
     "metadata": {},
     "output_type": "execute_result"
    }
   ],
   "source": [
    "# Create a list of integers:\n",
    "\n",
    "S = np.arange(6)\n",
    "\n",
    "# Shuffle the list:\n",
    "\n",
    "np.random.shuffle(S)\n",
    "\n",
    "# Check the time our naive function takes to sort it:\n",
    "\n",
    "timeit(\"solve_sp(S)\", number=1, globals=globals())"
   ]
  },
  {
   "cell_type": "markdown",
   "id": "a5f8caef",
   "metadata": {},
   "source": [
    "Now with a list of 8 integers:"
   ]
  },
  {
   "cell_type": "code",
   "execution_count": 5,
   "id": "7346e5d2",
   "metadata": {},
   "outputs": [
    {
     "name": "stdout",
     "output_type": "stream",
     "text": [
      "[(0, 1, 2, 3, 4, 5, 6, 7)]\n"
     ]
    },
    {
     "data": {
      "text/plain": [
       "0.02763455999956932"
      ]
     },
     "execution_count": 5,
     "metadata": {},
     "output_type": "execute_result"
    }
   ],
   "source": [
    "S = np.arange(8)\n",
    "\n",
    "np.random.shuffle(S)\n",
    "\n",
    "timeit(\"solve_sp(S)\", number=1, globals=globals())"
   ]
  },
  {
   "cell_type": "markdown",
   "id": "57814679",
   "metadata": {},
   "source": [
    "And with a list of 10 integers:"
   ]
  },
  {
   "cell_type": "code",
   "execution_count": 6,
   "id": "32ebbd43",
   "metadata": {},
   "outputs": [
    {
     "name": "stdout",
     "output_type": "stream",
     "text": [
      "[(0, 1, 2, 3, 4, 5, 6, 7, 8, 9)]\n"
     ]
    },
    {
     "data": {
      "text/plain": [
       "1.226728962999914"
      ]
     },
     "execution_count": 6,
     "metadata": {},
     "output_type": "execute_result"
    }
   ],
   "source": [
    "S = np.arange(10)\n",
    "\n",
    "np.random.shuffle(S)\n",
    "\n",
    "timeit(\"solve_sp(S)\", number=1, globals=globals())"
   ]
  },
  {
   "cell_type": "markdown",
   "id": "005cc55d",
   "metadata": {},
   "source": [
    "And finally 12 integers:"
   ]
  },
  {
   "cell_type": "code",
   "execution_count": 7,
   "id": "7579206f",
   "metadata": {},
   "outputs": [
    {
     "name": "stdout",
     "output_type": "stream",
     "text": [
      "[(0, 1, 2, 3, 4, 5, 6, 7, 8, 9, 10, 11)]\n"
     ]
    },
    {
     "data": {
      "text/plain": [
       "170.64926273299898"
      ]
     },
     "execution_count": 7,
     "metadata": {},
     "output_type": "execute_result"
    }
   ],
   "source": [
    "S = np.arange(12)\n",
    "\n",
    "np.random.shuffle(S)\n",
    "\n",
    "timeit(\"solve_sp(S)\", number=1, globals=globals())"
   ]
  },
  {
   "cell_type": "code",
   "execution_count": null,
   "id": "c34ad5ea",
   "metadata": {},
   "outputs": [],
   "source": []
  }
 ],
 "metadata": {
  "kernelspec": {
   "display_name": "Python 3 (ipykernel)",
   "language": "python",
   "name": "python3"
  },
  "language_info": {
   "codemirror_mode": {
    "name": "ipython",
    "version": 3
   },
   "file_extension": ".py",
   "mimetype": "text/x-python",
   "name": "python",
   "nbconvert_exporter": "python",
   "pygments_lexer": "ipython3",
   "version": "3.9.5"
  }
 },
 "nbformat": 4,
 "nbformat_minor": 5
}
