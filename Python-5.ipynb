{
 "cells": [
  {
   "cell_type": "markdown",
   "id": "970999e5",
   "metadata": {},
   "source": [
    "# Generating sets"
   ]
  },
  {
   "cell_type": "markdown",
   "id": "412ed891",
   "metadata": {},
   "source": [
    "Here we first define a couple of functions to provide\n",
    "generating sets for the symmetric groups."
   ]
  },
  {
   "cell_type": "code",
   "execution_count": 1,
   "id": "78178df6",
   "metadata": {},
   "outputs": [],
   "source": [
    "from itertools import combinations, permutations, product\n",
    "\n",
    "import numpy as np\n",
    "\n",
    "from utils import random_sp, random_tsp, phi, psi, build_curve"
   ]
  },
  {
   "cell_type": "markdown",
   "id": "c6e3a44d",
   "metadata": {},
   "source": [
    "First the set of contiguous transpositions."
   ]
  },
  {
   "cell_type": "code",
   "execution_count": 2,
   "id": "c3fbd7fb",
   "metadata": {},
   "outputs": [],
   "source": [
    "def nswap_generators(n):\n",
    "    G = []\n",
    "    eye = np.eye(n, dtype=np.uint16)\n",
    "    for i in range(n):\n",
    "        j = (i + 1) % n\n",
    "        g = np.copy(eye)\n",
    "        g[i] = eye[j]\n",
    "        g[j] = eye[i]\n",
    "        G.append(g)\n",
    "    return G"
   ]
  },
  {
   "cell_type": "markdown",
   "id": "a36d3a78",
   "metadata": {},
   "source": [
    "And the set of all transpositions."
   ]
  },
  {
   "cell_type": "code",
   "execution_count": 3,
   "id": "445ccfe7",
   "metadata": {},
   "outputs": [],
   "source": [
    "def lswap_generators(n):\n",
    "    G = []\n",
    "    eye = np.eye(n, dtype=np.uint16)\n",
    "    ijs = combinations(range(n), 2)\n",
    "    for i, j in ijs:\n",
    "        g = np.copy(eye)\n",
    "        g[i] = eye[j]\n",
    "        g[j] = eye[i]\n",
    "        G.append(g)\n",
    "    return G"
   ]
  },
  {
   "cell_type": "markdown",
   "id": "dcd9fb91",
   "metadata": {},
   "source": [
    "And sets of k-opt generators."
   ]
  },
  {
   "cell_type": "code",
   "execution_count": 4,
   "id": "50e87516",
   "metadata": {},
   "outputs": [],
   "source": [
    "def k_opt_generators(n, k):\n",
    "    eye = np.eye(n, dtype=np.uint16)\n",
    "    all_cuts = combinations(range(n), k)\n",
    "    G = []\n",
    "    seen = set()\n",
    "    for cuts in all_cuts:\n",
    "        offset = cuts[0]\n",
    "        cuts = np.array(cuts[1:]) - offset\n",
    "        pieces = []\n",
    "        start = 0\n",
    "        for cut in cuts:\n",
    "            piece = eye[start:cut]\n",
    "            pieces.append((piece, piece[::-1]))\n",
    "            start = cut\n",
    "        last_piece = eye[start:]\n",
    "        pieces.append((last_piece, last_piece[::-1]))\n",
    "        reorderings = permutations(pieces)\n",
    "        for reordering in reorderings:\n",
    "            orderings = product((0, 1), repeat=k)\n",
    "            for ordering in orderings:\n",
    "                newgen = [piece[o] for piece, o in zip(reordering, ordering)]\n",
    "                anewgen = np.concatenate(newgen)\n",
    "                maybe_newgen = np.copy(eye)\n",
    "                maybe_newgen[:offset] = anewgen[n - offset:]\n",
    "                maybe_newgen[offset:] = anewgen[:n - offset]\n",
    "                s = ''.join(map(str, np.ravel(maybe_newgen)))\n",
    "                if s not in seen:\n",
    "                    G.append(maybe_newgen)\n",
    "                    seen.add(s)\n",
    "    return G"
   ]
  },
  {
   "cell_type": "markdown",
   "id": "989d4be9",
   "metadata": {},
   "source": [
    "We can check contiguous transpositions to solve the SP."
   ]
  },
  {
   "cell_type": "code",
   "execution_count": 5,
   "id": "d6e0001f",
   "metadata": {},
   "outputs": [
    {
     "name": "stdout",
     "output_type": "stream",
     "text": [
      "Unsolved: [0.46421274 0.01528442 0.77352475 0.46909602 0.61730303 0.40204241\n",
      " 0.03000184 0.4744963  0.26330173 0.80658286 0.07201637 0.92621212\n",
      " 0.98374375 0.50353513 0.80629306 0.98305901 0.14781505 0.40326868\n",
      " 0.85251745 0.56234082]\n",
      "Steps taken: 73\n",
      "Solution: [0.01528442 0.03000184 0.07201637 0.14781505 0.26330173 0.40204241\n",
      " 0.40326868 0.46421274 0.46909602 0.4744963  0.50353513 0.56234082\n",
      " 0.61730303 0.77352475 0.80629306 0.80658286 0.85251745 0.92621212\n",
      " 0.98305901 0.98374375]\n"
     ]
    }
   ],
   "source": [
    "n = 20\n",
    "\n",
    "sp1 = random_sp(n)\n",
    "G = nswap_generators(n)\n",
    "\n",
    "print(f\"Unsolved: {sp1}\")\n",
    "\n",
    "solved = build_curve(sp1, G, phi)\n",
    "\n",
    "print(f\"Steps taken: {len(solved)}\")\n",
    "print(f\"Solution: {solved[-1]}\")"
   ]
  },
  {
   "cell_type": "markdown",
   "id": "45aba827",
   "metadata": {},
   "source": [
    "Also general transpositions"
   ]
  },
  {
   "cell_type": "code",
   "execution_count": 6,
   "id": "2e4c1be8",
   "metadata": {},
   "outputs": [
    {
     "name": "stdout",
     "output_type": "stream",
     "text": [
      "Steps taken: 21\n",
      "Solution: [0.01528442 0.03000184 0.07201637 0.14781505 0.26330173 0.40204241\n",
      " 0.40326868 0.46421274 0.46909602 0.4744963  0.50353513 0.56234082\n",
      " 0.61730303 0.77352475 0.80629306 0.80658286 0.85251745 0.92621212\n",
      " 0.98305901 0.98374375]\n"
     ]
    }
   ],
   "source": [
    "G2 = lswap_generators(n)\n",
    "\n",
    "solved = build_curve(sp1, G2, phi)\n",
    "\n",
    "print(f\"Steps taken: {len(solved)}\")\n",
    "print(f\"Solution: {solved[-1]}\")"
   ]
  },
  {
   "cell_type": "markdown",
   "id": "fc2caedc",
   "metadata": {},
   "source": [
    "2-opt generating set"
   ]
  },
  {
   "cell_type": "code",
   "execution_count": 7,
   "id": "342756ce",
   "metadata": {},
   "outputs": [
    {
     "name": "stdout",
     "output_type": "stream",
     "text": [
      "Steps taken: 3\n",
      "(Non) Solution: [0.03000184 0.4744963  0.26330173 0.80658286 0.07201637 0.40204241\n",
      " 0.61730303 0.46909602 0.77352475 0.01528442 0.46421274 0.56234082\n",
      " 0.85251745 0.40326868 0.14781505 0.98305901 0.80629306 0.50353513\n",
      " 0.92621212 0.98374375]\n"
     ]
    }
   ],
   "source": [
    "G3 = k_opt_generators(n, 2)\n",
    "\n",
    "solved = build_curve(sp1, G3, phi)\n",
    "\n",
    "print(f\"Steps taken: {len(solved)}\")\n",
    "print(f\"(Non) Solution: {solved[-1]}\")"
   ]
  },
  {
   "cell_type": "markdown",
   "id": "87971396",
   "metadata": {},
   "source": [
    "3-opt generating set"
   ]
  },
  {
   "cell_type": "code",
   "execution_count": 8,
   "id": "5186ab2c",
   "metadata": {},
   "outputs": [
    {
     "name": "stdout",
     "output_type": "stream",
     "text": [
      "Steps taken: 19\n",
      "Solution: [0.01528442 0.03000184 0.07201637 0.14781505 0.26330173 0.40204241\n",
      " 0.40326868 0.46421274 0.46909602 0.4744963  0.50353513 0.56234082\n",
      " 0.61730303 0.77352475 0.80629306 0.80658286 0.85251745 0.92621212\n",
      " 0.98305901 0.98374375]\n"
     ]
    }
   ],
   "source": [
    "G4 = k_opt_generators(n, 3)\n",
    "\n",
    "solved = build_curve(sp1, G4, phi)\n",
    "\n",
    "print(f\"Steps taken: {len(solved)}\")\n",
    "print(f\"Solution: {solved[-1]}\")"
   ]
  },
  {
   "cell_type": "code",
   "execution_count": null,
   "id": "4019f502",
   "metadata": {},
   "outputs": [],
   "source": []
  }
 ],
 "metadata": {
  "kernelspec": {
   "display_name": "Python 3 (ipykernel)",
   "language": "python",
   "name": "python3"
  },
  "language_info": {
   "codemirror_mode": {
    "name": "ipython",
    "version": 3
   },
   "file_extension": ".py",
   "mimetype": "text/x-python",
   "name": "python",
   "nbconvert_exporter": "python",
   "pygments_lexer": "ipython3",
   "version": "3.9.5"
  }
 },
 "nbformat": 4,
 "nbformat_minor": 5
}
