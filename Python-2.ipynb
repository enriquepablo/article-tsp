{
 "cells": [
  {
   "cell_type": "markdown",
   "id": "19035182",
   "metadata": {},
   "source": [
    "# Measures"
   ]
  },
  {
   "cell_type": "markdown",
   "id": "247ad923",
   "metadata": {},
   "source": [
    "Here we implement our measures in Python\n",
    "and demonstrate their use."
   ]
  },
  {
   "cell_type": "code",
   "execution_count": 1,
   "id": "a49d2fe8",
   "metadata": {},
   "outputs": [],
   "source": [
    "import numpy as np\n",
    "\n",
    "from utils import random_tsp"
   ]
  },
  {
   "cell_type": "markdown",
   "id": "3d93d259",
   "metadata": {},
   "source": [
    "The $\\phi$ measure"
   ]
  },
  {
   "cell_type": "code",
   "execution_count": 2,
   "id": "60b7a50b",
   "metadata": {},
   "outputs": [],
   "source": [
    "def phi(p):\n",
    "    return sum((p - np.arange(len(p))) ** 2)"
   ]
  },
  {
   "cell_type": "markdown",
   "id": "4ee949cc",
   "metadata": {},
   "source": [
    "And the $\\psi$ measure"
   ]
  },
  {
   "cell_type": "code",
   "execution_count": 3,
   "id": "45cbad06",
   "metadata": {},
   "outputs": [],
   "source": [
    "def psi(p):\n",
    "    return sum(abs(p - np.roll(p, 1))**2)"
   ]
  },
  {
   "cell_type": "markdown",
   "id": "3156442a",
   "metadata": {},
   "source": [
    "We can use them on arbitrary instances of the problems"
   ]
  },
  {
   "cell_type": "code",
   "execution_count": 4,
   "id": "d9118abd",
   "metadata": {},
   "outputs": [
    {
     "name": "stdout",
     "output_type": "stream",
     "text": [
      "phi measure on solved SP instance: 0\n",
      "and on unsolved SP instance: 26\n"
     ]
    }
   ],
   "source": [
    "sp1 = np.arange(5)\n",
    "print(f\"phi measure on solved SP instance: {phi(sp1)}\")\n",
    "\n",
    "np.random.shuffle(sp1)\n",
    "print(f\"and on unsolved SP instance: {phi(sp1)}\")"
   ]
  },
  {
   "cell_type": "code",
   "execution_count": 5,
   "id": "eb2f893b",
   "metadata": {},
   "outputs": [
    {
     "name": "stdout",
     "output_type": "stream",
     "text": [
      "psi measure on unsolved TSP instance: 1.9610211743348525\n",
      "and on different unsolved state of the same TSP instance: 1.9826059943968084\n"
     ]
    }
   ],
   "source": [
    "tsp1 = random_tsp(5)\n",
    "print(f\"psi measure on unsolved TSP instance: {psi(tsp1)}\")\n",
    "\n",
    "eye = np.eye(5)\n",
    "t23 = np.eye(5)\n",
    "t23[2] = eye[3]\n",
    "t23[3] = eye[2]\n",
    "print(f\"and on different unsolved state of the same TSP instance: {psi(tsp1 @ t23)}\")"
   ]
  },
  {
   "cell_type": "code",
   "execution_count": null,
   "id": "1dc34b19",
   "metadata": {},
   "outputs": [],
   "source": []
  }
 ],
 "metadata": {
  "kernelspec": {
   "display_name": "Python 3 (ipykernel)",
   "language": "python",
   "name": "python3"
  },
  "language_info": {
   "codemirror_mode": {
    "name": "ipython",
    "version": 3
   },
   "file_extension": ".py",
   "mimetype": "text/x-python",
   "name": "python",
   "nbconvert_exporter": "python",
   "pygments_lexer": "ipython3",
   "version": "3.9.5"
  }
 },
 "nbformat": 4,
 "nbformat_minor": 5
}
