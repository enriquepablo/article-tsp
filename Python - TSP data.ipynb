{
 "cells": [
  {
   "cell_type": "markdown",
   "id": "b7d199e9",
   "metadata": {},
   "source": [
    "## Python: Making datasets for machine learning"
   ]
  },
  {
   "cell_type": "markdown",
   "id": "c9144bb2",
   "metadata": {},
   "source": [
    "Here we use the code in the companion [tsp_utils.py](tsp_utils.py) module\n",
    "to demonstrate how we generate data to train ML models.\n",
    "\n",
    "First a couple of imports:"
   ]
  },
  {
   "cell_type": "code",
   "execution_count": 1,
   "id": "b55b47d7",
   "metadata": {
    "scrolled": true
   },
   "outputs": [
    {
     "name": "stderr",
     "output_type": "stream",
     "text": [
      "2023-01-19 18:55:23.998701: I tensorflow/core/platform/cpu_feature_guard.cc:193] This TensorFlow binary is optimized with oneAPI Deep Neural Network Library (oneDNN) to use the following CPU instructions in performance-critical operations:  AVX2 FMA\n",
      "To enable them in other operations, rebuild TensorFlow with the appropriate compiler flags.\n",
      "2023-01-19 18:55:24.146579: W tensorflow/stream_executor/platform/default/dso_loader.cc:64] Could not load dynamic library 'libcudart.so.11.0'; dlerror: libcudart.so.11.0: cannot open shared object file: No such file or directory\n",
      "2023-01-19 18:55:24.146599: I tensorflow/stream_executor/cuda/cudart_stub.cc:29] Ignore above cudart dlerror if you do not have a GPU set up on your machine.\n",
      "2023-01-19 18:55:24.186839: E tensorflow/stream_executor/cuda/cuda_blas.cc:2981] Unable to register cuBLAS factory: Attempting to register factory for plugin cuBLAS when one has already been registered\n",
      "2023-01-19 18:55:25.010565: W tensorflow/stream_executor/platform/default/dso_loader.cc:64] Could not load dynamic library 'libnvinfer.so.7'; dlerror: libnvinfer.so.7: cannot open shared object file: No such file or directory\n",
      "2023-01-19 18:55:25.010634: W tensorflow/stream_executor/platform/default/dso_loader.cc:64] Could not load dynamic library 'libnvinfer_plugin.so.7'; dlerror: libnvinfer_plugin.so.7: cannot open shared object file: No such file or directory\n",
      "2023-01-19 18:55:25.010642: W tensorflow/compiler/tf2tensorrt/utils/py_utils.cc:38] TF-TRT Warning: Cannot dlopen some TensorRT libraries. If you would like to use Nvidia GPU with TensorRT, please make sure the missing libraries mentioned above are installed properly.\n"
     ]
    }
   ],
   "source": [
    "import generators\n",
    "import tsp_utils as tsp"
   ]
  },
  {
   "cell_type": "markdown",
   "id": "a6b92314",
   "metadata": {},
   "source": [
    "We use 2 sets of generators,\n",
    "one, `gens_long`, more complex, to make sure we find the solution among the sinks found,\n",
    "and another, `gens_short`, which is a subset of `gens_long`,\n",
    "which we use to produce the local data that will be fed to the models."
   ]
  },
  {
   "cell_type": "code",
   "execution_count": 2,
   "id": "e9ab0d1a",
   "metadata": {},
   "outputs": [],
   "source": [
    "gens_long = generators.gen23s\n",
    "gens_short = lambda n: generators.nswap_generators(n)"
   ]
  },
  {
   "cell_type": "markdown",
   "id": "fafb8dbb",
   "metadata": {},
   "source": [
    "And then we just use the `make_dataset` function to generate the data."
   ]
  },
  {
   "cell_type": "code",
   "execution_count": 1,
   "id": "ca8c4f68",
   "metadata": {
    "scrolled": true
   },
   "outputs": [
    {
     "ename": "NameError",
     "evalue": "name 'tsp' is not defined",
     "output_type": "error",
     "traceback": [
      "\u001b[0;31m---------------------------------------------------------------------------\u001b[0m",
      "\u001b[0;31mNameError\u001b[0m                                 Traceback (most recent call last)",
      "Input \u001b[0;32mIn [1]\u001b[0m, in \u001b[0;36m<cell line: 1>\u001b[0;34m()\u001b[0m\n\u001b[0;32m----> 1\u001b[0m \u001b[43mtsp\u001b[49m\u001b[38;5;241m.\u001b[39mmake_dataset(\u001b[38;5;241m20\u001b[39m, gens_short, gens_long, \u001b[38;5;241m1000\u001b[39m, \u001b[38;5;241m100\u001b[39m, setname\u001b[38;5;241m=\u001b[39m\u001b[38;5;124m'\u001b[39m\u001b[38;5;124mnswap-samerows\u001b[39m\u001b[38;5;124m'\u001b[39m, shake\u001b[38;5;241m=\u001b[39m\u001b[38;5;241m0\u001b[39m)\n",
      "\u001b[0;31mNameError\u001b[0m: name 'tsp' is not defined"
     ]
    }
   ],
   "source": [
    "tsp.make_dataset(20, gens_short, gens_long, 1000, 100, setname='nswap-samerows')"
   ]
  },
  {
   "cell_type": "code",
   "execution_count": null,
   "id": "8717780b",
   "metadata": {},
   "outputs": [],
   "source": []
  }
 ],
 "metadata": {
  "kernelspec": {
   "display_name": "Python 3 (ipykernel)",
   "language": "python",
   "name": "python3"
  },
  "language_info": {
   "codemirror_mode": {
    "name": "ipython",
    "version": 3
   },
   "file_extension": ".py",
   "mimetype": "text/x-python",
   "name": "python",
   "nbconvert_exporter": "python",
   "pygments_lexer": "ipython3",
   "version": "3.9.5"
  }
 },
 "nbformat": 4,
 "nbformat_minor": 5
}
