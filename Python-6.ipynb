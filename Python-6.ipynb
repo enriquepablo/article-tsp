{
 "cells": [
  {
   "cell_type": "markdown",
   "id": "e586218a",
   "metadata": {},
   "source": [
    "# Topologies"
   ]
  },
  {
   "cell_type": "markdown",
   "id": "55f3a5a1",
   "metadata": {},
   "source": [
    "We show here numbers and sizes of components for different problems, cardinalities, generating sets, and measures."
   ]
  },
  {
   "cell_type": "code",
   "execution_count": 1,
   "id": "2fb67b3d",
   "metadata": {},
   "outputs": [],
   "source": [
    "from collections import defaultdict\n",
    "\n",
    "import matplotlib.pyplot as plt\n",
    "\n",
    "import numpy as np\n",
    "from sympy.utilities.iterables import multiset_permutations\n",
    "\n",
    "from utils import random_sp, random_tsp, phi, psi, nswap_generators, lswap_generators, build_curve, k_opt_generators"
   ]
  },
  {
   "cell_type": "markdown",
   "id": "15b3a11d",
   "metadata": {},
   "source": [
    "The following function takes an instance of a problem `p`, a generating set `G` and a measure `measure`\n",
    "and returns a Python dict in which the keys are the measure of the sink of each component\n",
    "and the values are the number of points in  that component.\n",
    "\n",
    "This function has to measure every single point in the solution space,\n",
    "and thus, can only be used with instances of the problems with low cardinalities."
   ]
  },
  {
   "cell_type": "code",
   "execution_count": 2,
   "id": "36bc96c3",
   "metadata": {},
   "outputs": [],
   "source": [
    "def components(p, G, measure):\n",
    "    n = len(list(p))\n",
    "    if callable(G):\n",
    "        G = G(n)\n",
    "    comps_dict = defaultdict(int)\n",
    "    seen = set()\n",
    "    for s in multiset_permutations(p):\n",
    "        if tuple(s) in seen:\n",
    "            continue\n",
    "        path = build_curve(np.array(s), G, measure)\n",
    "        m = measure(path[-1])\n",
    "        k = round(m, 6)\n",
    "        for node in path:\n",
    "            tnode = tuple(node)\n",
    "            if tnode in seen:\n",
    "                continue\n",
    "            else:\n",
    "                comps_dict[k] += 1\n",
    "                seen.add(tnode)\n",
    "    comps = list(comps_dict.items())\n",
    "    comps.sort(key=lambda c: c[0])\n",
    "    return comps"
   ]
  },
  {
   "cell_type": "markdown",
   "id": "c0c9da22",
   "metadata": {},
   "source": [
    "As an example, we can check the components of instances of the TSP with 9 cities,\n",
    "with contiguous transpositions as `G` and psi as `measure`"
   ]
  },
  {
   "cell_type": "code",
   "execution_count": 3,
   "id": "47507629",
   "metadata": {},
   "outputs": [
    {
     "name": "stdout",
     "output_type": "stream",
     "text": [
      "[(1.211964, 53388), (1.404738, 9342), (1.435537, 26388), (1.48102, 8820), (1.540301, 21636), (1.566393, 11088), (1.599862, 9018), (1.628312, 4752), (1.643822, 11088), (1.66234, 5832), (1.677192, 10476), (1.70138, 8298), (1.704594, 5310), (1.732805, 5562), (1.745896, 3546), (1.751871, 1350), (1.761918, 1962), (1.841842, 1962), (1.914826, 2628), (2.042454, 1512), (2.069843, 1710), (2.077651, 1332), (2.108721, 1278), (2.110337, 630), (2.136429, 1908), (2.160158, 792), (2.169406, 594), (2.184643, 972), (2.187455, 1584), (2.199944, 1026), (2.201662, 684), (2.211396, 738), (2.215713, 954), (2.273141, 630), (2.284013, 1512), (2.287019, 1890), (2.287501, 1368), (2.288974, 414), (2.290332, 1512), (2.298045, 1764), (2.311769, 1260), (2.329204, 432), (2.339272, 1476), (2.349285, 1602), (2.350376, 1170), (2.359439, 414), (2.363597, 684), (2.36982, 1530), (2.374659, 1854), (2.379256, 1494), (2.383576, 1854), (2.38689, 1476), (2.397608, 1818), (2.398794, 468), (2.40463, 1638), (2.405037, 1782), (2.405114, 576), (2.417669, 1458), (2.425039, 486), (2.428767, 1386), (2.43583, 1134), (2.442388, 432), (2.45216, 990), (2.452654, 1764), (2.46738, 1422), (2.478252, 1602), (2.483731, 666), (2.5046, 1368), (2.515319, 1458), (2.515703, 1512), (2.518724, 594), (2.523443, 918), (2.535765, 1476), (2.536856, 1620), (2.539663, 702), (2.542059, 900), (2.548855, 1404), (2.552217, 1224), (2.553423, 612), (2.562182, 702), (2.565253, 1152), (2.565736, 1458), (2.565947, 954), (2.566277, 576), (2.567068, 846), (2.569563, 648), (2.577247, 504), (2.582718, 1170), (2.595111, 414), (2.596826, 1494), (2.59702, 414), (2.612842, 288), (2.614964, 774), (2.617361, 684), (2.618503, 648), (2.622695, 1638), (2.623888, 1440), (2.628474, 486), (2.631659, 1152), (2.631711, 1692), (2.633194, 774), (2.646556, 900), (2.648418, 504), (2.656572, 1638), (2.661811, 990), (2.66207, 1062), (2.662552, 918), (2.665509, 1152), (2.675842, 1224), (2.677902, 810), (2.689257, 612), (2.692421, 738), (2.707261, 486), (2.708033, 342), (2.709766, 576), (2.71445, 1116), (2.720834, 936), (2.725553, 1278), (2.733894, 1008), (2.75835, 414), (2.763531, 486), (2.772659, 1404), (2.777057, 2214), (2.798935, 810), (2.800216, 1440), (2.803651, 702), (2.80687, 504), (2.815184, 684), (2.820355, 1602), (2.824942, 216), (2.82834, 810), (2.830711, 990), (2.84855, 810), (2.858333, 288), (2.864125, 270), (2.866422, 1278), (2.868601, 1098), (2.873882, 216), (2.87662, 684), (2.87728, 522), (2.878407, 1206), (2.879392, 684), (2.884774, 1836), (2.88709, 288), (2.899095, 1134), (2.90093, 648), (2.910002, 810), (2.925303, 918), (2.926653, 702), (2.936736, 342), (2.941455, 936), (2.948036, 1044), (2.950255, 432), (2.959139, 918), (2.960071, 396), (2.960899, 360), (2.974249, 522), (2.991509, 378), (2.992318, 144), (2.993554, 882), (2.993688, 900), (2.997747, 576), (3.001686, 594), (3.02347, 432), (3.028456, 612), (3.032295, 450), (3.043609, 378), (3.062409, 216), (3.076073, 612), (3.08647, 936), (3.092549, 378), (3.100008, 990), (3.106683, 522), (3.108834, 1008), (3.118521, 594), (3.123515, 864), (3.124792, 558), (3.139902, 162), (3.163009, 1044), (3.172969, 432), (3.183484, 1404), (3.259825, 1494), (3.261014, 234), (3.28923, 378), (3.320056, 684), (3.321471, 756), (3.34161, 684), (3.347563, 342), (3.350189, 144), (3.366228, 72), (3.379587, 108), (3.407817, 396), (3.419702, 108), (3.424385, 108), (3.428291, 180), (3.446557, 252), (3.48039, 504), (3.486672, 324), (3.490963, 126), (3.638255, 72), (3.687195, 72), (3.765174, 54)]\n",
      "[(1.644808, 19908), (1.673265, 11862), (1.789672, 30618), (1.86957, 33876), (1.919135, 9342), (1.934163, 18828), (2.016878, 9360), (2.411996, 2070), (2.45388, 5400), (2.482337, 1962), (2.603948, 4446), (2.676507, 3438), (2.743235, 5580), (2.756405, 2934), (2.770219, 1116), (2.774468, 4770), (2.792966, 2736), (2.802924, 2106), (2.82595, 3258), (2.831496, 2880), (2.855957, 2340), (2.859646, 1998), (2.872864, 810), (2.873554, 2052), (2.886999, 2340), (2.921846, 2286), (2.925453, 1800), (2.933947, 2502), (2.938231, 2682), (2.939071, 1440), (2.940041, 1278), (2.941838, 2178), (2.943536, 666), (2.959197, 1530), (2.962157, 2862), (2.973785, 1242), (2.975582, 1908), (2.976113, 1836), (2.997095, 2754), (2.999754, 1908), (3.000127, 2088), (3.016462, 10404), (3.018969, 576), (3.020426, 2592), (3.021606, 1782), (3.031317, 720), (3.033498, 2340), (3.03403, 1818), (3.039173, 1890), (3.041926, 900), (3.052617, 2178), (3.065397, 1584), (3.081782, 1854), (3.102748, 2646), (3.111215, 648), (3.119133, 1026), (3.122985, 1296), (3.124165, 1890), (3.124303, 306), (3.139193, 1278), (3.147158, 1422), (3.148694, 666), (3.149, 1296), (3.149501, 864), (3.152084, 1386), (3.152301, 1674), (3.176177, 936), (3.187224, 1242), (3.199489, 1098), (3.212387, 720), (3.223449, 522), (3.228006, 1404), (3.229186, 954), (3.246131, 792), (3.265459, 936), (3.275746, 900), (3.287149, 468), (3.287316, 576), (3.291066, 756), (3.320095, 576), (3.329596, 684), (3.330005, 1080), (3.332077, 1350), (3.34123, 1008), (3.343913, 522), (3.355817, 936), (3.369553, 504), (3.374974, 1206), (3.389561, 576), (3.391876, 468), (3.402459, 1332), (3.40901, 846), (3.417845, 792), (3.42562, 720), (3.429248, 540), (3.430735, 396), (3.449647, 1404), (3.452305, 54), (3.457041, 432), (3.472103, 504), (3.491965, 1764), (3.516425, 396), (3.518525, 1080), (3.581522, 918), (3.601821, 756), (3.62266, 432), (3.628163, 378), (3.635858, 1152), (3.63788, 648), (3.661907, 378), (3.682043, 540), (3.682313, 324), (3.682626, 1440), (3.692861, 1512), (3.696071, 1638), (3.706305, 1314), (3.714949, 342), (3.728393, 360), (3.729088, 468), (3.729947, 1278), (3.732695, 1386), (3.753626, 882), (3.767618, 1278), (3.778453, 540), (3.802382, 1134), (3.805592, 1152), (3.805989, 1188), (3.809198, 1242), (3.824356, 918), (3.829498, 1368), (3.830677, 972), (3.840912, 1368), (3.842211, 450), (3.853177, 1350), (3.86785, 558), (3.87146, 306), (3.900251, 162), (3.904411, 558), (3.908018, 972), (3.90999, 612), (3.930051, 720), (3.934519, 900), (3.935699, 1278), (3.944754, 954), (3.955936, 198), (3.959542, 1062), (3.967402, 954), (3.977269, 1224), (3.983284, 1026), (3.993286, 936), (3.994118, 1062), (4.004352, 1188), (4.004385, 846), (4.029863, 1188), (4.052456, 738), (4.060769, 360), (4.063607, 1188), (4.063979, 1206), (4.073602, 1044), (4.079293, 252), (4.087027, 468), (4.088206, 540), (4.099487, 1152), (4.110953, 378), (4.112735, 1368), (4.116342, 378), (4.13576, 378), (4.136414, 1242), (4.136838, 144), (4.140021, 810), (4.1451, 396), (4.151265, 954), (4.153371, 558), (4.160321, 432), (4.1615, 846), (4.16353, 306), (4.181507, 342), (4.187699, 756), (4.192048, 198), (4.193227, 432), (4.211531, 450), (4.224356, 216), (4.23521, 414), (4.240773, 738), (4.255107, 198), (4.25551, 342), (4.258719, 306), (4.265342, 468), (4.266521, 378), (4.277105, 144), (4.286927, 612), (4.289538, 792), (4.293637, 1134), (4.314705, 72), (4.32494, 162), (4.358403, 90), (4.368637, 198), (4.371847, 162), (4.382082, 126), (4.388826, 270), (4.409063, 144), (4.464222, 216), (4.552614, 72)]\n",
      "[(0.823002, 69408), (0.982723, 9234), (1.087019, 5652), (1.122521, 10458), (1.122654, 6408), (1.125316, 9306), (1.132204, 8100), (1.142931, 8100), (1.149838, 5616), (1.152481, 5544), (1.154588, 6012), (1.160951, 8226), (1.181228, 7974), (1.183974, 1440), (1.188176, 7020), (1.192886, 3096), (1.208453, 9270), (1.387317, 6444), (1.485849, 3438), (1.550932, 828), (1.579628, 1998), (1.587185, 468), (1.641289, 2016), (1.648846, 864), (1.663998, 2700), (1.668693, 1404), (1.730406, 2304), (1.738259, 90), (1.75099, 3924), (1.758541, 3096), (1.763335, 2196), (1.780935, 2142), (1.80008, 648), (1.801212, 1080), (1.80816, 2286), (1.812869, 1260), (1.815926, 1512), (1.817416, 432), (1.818362, 1746), (1.820415, 666), (1.828437, 1170), (1.829214, 2016), (1.834702, 2862), (1.837431, 1224), (1.838377, 1818), (1.842206, 2088), (1.844497, 1980), (1.849491, 1872), (1.851037, 1782), (1.855733, 450), (1.864512, 1836), (1.870203, 1476), (1.872999, 1386), (1.896337, 1260), (1.899133, 1314), (1.899682, 2412), (1.905774, 1908), (1.906967, 504), (1.91437, 1476), (1.925413, 1116), (1.934345, 576), (1.94558, 1188), (1.95436, 1476), (1.955594, 864), (1.960322, 918), (1.961342, 1422), (1.965832, 558), (1.968627, 630), (1.969578, 882), (1.969823, 1278), (1.970085, 1422), (1.970925, 630), (1.97411, 2178), (1.975942, 1224), (1.977033, 1152), (1.983721, 666), (1.987178, 558), (1.988981, 1692), (1.989783, 1404), (1.995173, 288), (2.009829, 414), (2.013992, 846), (2.016234, 1350), (2.016416, 432), (2.017325, 990), (2.019112, 1260), (2.023182, 1224), (2.023444, 846), (2.023973, 468), (2.027247, 72), (2.028213, 1098), (2.030022, 882), (2.03468, 468), (2.03577, 1584), (2.041205, 792), (2.041391, 738), (2.04849, 1872), (2.051443, 1494), (2.055028, 594), (2.056991, 360), (2.060589, 1818), (2.068205, 1584), (2.082432, 1152), (2.085805, 828), (2.08802, 216), (2.089873, 1008), (2.0916, 234), (2.094385, 468), (2.095061, 216), (2.097303, 1116), (2.098019, 2592), (2.11051, 990), (2.113172, 684), (2.117739, 1008), (2.11776, 1764), (2.117934, 1242), (2.119513, 252), (2.121843, 522), (2.127303, 684), (2.130527, 1530), (2.136511, 648), (2.136535, 1620), (2.145948, 1116), (2.14681, 774), (2.146864, 846), (2.150437, 306), (2.150923, 252), (2.156359, 828), (2.156364, 972), (2.157478, 432), (2.158467, 720), (2.169084, 1260), (2.172037, 1188), (2.173976, 180), (2.174941, 1008), (2.176032, 828), (2.179727, 882), (2.18239, 1404), (2.186439, 684), (2.193387, 828), (2.200967, 1134), (2.202775, 1026), (2.203866, 954), (2.204546, 144), (2.205728, 990), (2.206876, 504), (2.209724, 594), (2.210258, 702), (2.210467, 774), (2.212097, 990), (2.222444, 1188), (2.22617, 1422), (2.227822, 954), (2.229108, 504), (2.229155, 1242), (2.234567, 360), (2.236393, 342), (2.238098, 486), (2.244159, 1098), (2.244747, 1134), (2.24525, 954), (2.245838, 1206), (2.25601, 1080), (2.257167, 36), (2.263827, 720), (2.272346, 1476), (2.275481, 108), (2.279529, 1332), (2.282035, 738), (2.285066, 432), (2.287944, 486), (2.298372, 1188), (2.30614, 126), (2.318851, 414), (2.326449, 1026), (2.328311, 306), (2.330349, 540), (2.341775, 216), (2.346694, 216), (2.350581, 108), (2.358825, 396), (2.362712, 360), (2.362919, 180), (2.393434, 234), (2.449113, 198), (2.461244, 72), (2.503749, 360)]\n"
     ]
    },
    {
     "name": "stdout",
     "output_type": "stream",
     "text": [
      "[(1.710273, 64098), (1.988005, 3438), (2.03295, 3348), (2.121501, 4644), (2.127867, 3708), (2.140921, 2718), (2.156516, 3312), (2.168579, 4572), (2.203719, 4626), (2.232368, 3816), (2.236336, 3312), (2.241863, 4014), (2.25313, 2358), (2.256652, 3906), (2.2585, 5418), (2.259321, 2160), (2.26086, 2556), (2.270702, 6840), (2.286979, 3006), (2.29253, 9324), (2.294515, 2970), (2.298359, 2214), (2.308063, 4194), (2.312087, 4950), (2.339744, 3006), (2.34068, 2844), (2.344245, 2916), (2.347338, 1134), (2.350611, 1800), (2.351781, 2106), (2.35273, 4284), (2.356698, 1692), (2.367107, 2574), (2.37464, 3276), (2.386021, 4986), (2.400344, 4230), (2.408301, 1764), (2.423793, 2124), (2.425231, 2340), (2.427406, 4968), (2.429528, 1296), (2.446318, 1854), (2.466493, 1404), (2.485507, 2718), (2.496888, 2862), (2.517509, 3852), (2.538273, 2700), (2.552458, 2106), (2.559309, 6138), (2.582534, 2862), (2.585627, 2736), (2.627065, 1638), (2.668415, 3726), (2.722441, 1854), (2.728701, 1494), (2.731806, 2484), (2.734987, 2358), (2.756846, 2322), (2.762473, 3330), (2.778596, 2736), (2.779757, 2646), (2.789695, 3942), (2.790729, 1008), (2.798195, 558), (2.827712, 684), (2.829652, 2358), (2.865515, 1206), (2.89286, 540), (2.90238, 1206), (2.91519, 1386), (2.915782, 1620), (2.928812, 1548), (2.940291, 972), (2.950351, 972), (2.951479, 558), (2.953321, 1566), (2.986141, 540), (2.995296, 558), (3.043766, 324), (3.043939, 684), (3.051411, 900), (3.054294, 846), (3.060443, 1458), (3.066873, 1044), (3.079903, 1404), (3.082773, 414), (3.08895, 702), (3.093425, 810), (3.093615, 612), (3.097008, 720), (3.101641, 1188), (3.101751, 918), (3.102687, 1098), (3.114671, 2142), (3.114844, 666), (3.115043, 1080), (3.131336, 1206), (3.134258, 1422), (3.139218, 504), (3.143321, 792), (3.145024, 648), (3.146407, 1386), (3.152582, 846), (3.153724, 774), (3.156722, 954), (3.164938, 1080), (3.166359, 702), (3.168201, 900), (3.176549, 432), (3.178539, 1242), (3.178766, 882), (3.183358, 1278), (3.193587, 1080), (3.207188, 1044), (3.210309, 432), (3.211156, 648), (3.216254, 612), (3.219544, 1368), (3.227174, 684), (3.24079, 1062), (3.246473, 810), (3.247263, 684), (3.248297, 1044), (3.252044, 810), (3.253434, 360), (3.255627, 630), (3.25611, 756), (3.257083, 1476), (3.257918, 630), (3.262092, 594), (3.262882, 1062), (3.264591, 612), (3.26628, 594), (3.266464, 702), (3.267626, 756), (3.269439, 738), (3.272144, 918), (3.273407, 828), (3.275912, 1350), (3.278776, 918), (3.280326, 306), (3.280656, 684), (3.280915, 306), (3.282585, 738), (3.283176, 864), (3.294783, 450), (3.296206, 864), (3.307685, 720), (3.313823, 612), (3.320715, 828), (3.321905, 1026), (3.322005, 558), (3.32304, 504), (3.325494, 684), (3.330221, 378), (3.345531, 810), (3.354523, 414), (3.35693, 756), (3.358561, 1098), (3.35887, 486), (3.360579, 504), (3.362911, 360), (3.377096, 900), (3.3816, 450), (3.39463, 522), (3.398701, 378), (3.401198, 126), (3.403278, 936), (3.422769, 162), (3.426317, 144), (3.431598, 1494), (3.432644, 342), (3.440277, 414), (3.444628, 828), (3.444999, 594), (3.448459, 486), (3.450168, 720), (3.453307, 288), (3.453791, 324), (3.461489, 1242), (3.462161, 72), (3.47048, 558), (3.482539, 612), (3.49133, 324), (3.494894, 486), (3.512419, 792), (3.512463, 162), (3.524513, 216), (3.524819, 162), (3.543173, 72), (3.544088, 504), (3.562358, 252), (3.574714, 126), (3.603626, 432), (3.606805, 54), (3.641508, 90), (3.807994, 54), (3.82035, 108), (3.869419, 54), (3.979892, 54), (4.065979, 54), (4.094628, 54), (4.234917, 72), (4.247273, 72)]\n",
      "[(1.693783, 31770), (1.705944, 14976), (1.772989, 14274), (1.786812, 7614), (1.800674, 1026), (1.820266, 7416), (1.831632, 8010), (1.856149, 5220), (1.899798, 4788), (1.903426, 4626), (1.94297, 5094), (1.94701, 4122), (1.957883, 5310), (1.996821, 1296), (2.005159, 2196), (2.016526, 3168), (2.067438, 2592), (2.074295, 6858), (2.084691, 2556), (2.103699, 7038), (2.121572, 4950), (2.147539, 1080), (2.150598, 1548), (2.195419, 1530), (2.198429, 6138), (2.199578, 5382), (2.214967, 1224), (2.220689, 3078), (2.242212, 1440), (2.2456, 3438), (2.252331, 2448), (2.253579, 2772), (2.254848, 1548), (2.261835, 2268), (2.263536, 7344), (2.298368, 1728), (2.301218, 1368), (2.302777, 4050), (2.306656, 1710), (2.309112, 2430), (2.309735, 1800), (2.316203, 4014), (2.318659, 2412), (2.336131, 1638), (2.359195, 2556), (2.365926, 2196), (2.366288, 2232), (2.368744, 864), (2.369383, 2178), (2.373582, 3726), (2.380313, 2016), (2.38806, 3888), (2.389597, 3600), (2.389761, 1692), (2.403984, 2412), (2.416858, 1998), (2.419314, 1386), (2.421035, 558), (2.429865, 1296), (2.435337, 1710), (2.438381, 1728), (2.438835, 1404), (2.439412, 1332), (2.441747, 2790), (2.444885, 1728), (2.464668, 1116), (2.473932, 990), (2.48348, 540), (2.486112, 1440), (2.495046, 2682), (2.510244, 1692), (2.530421, 864), (2.531159, 1728), (2.5323, 1170), (2.535514, 3348), (2.537019, 1494), (2.537215, 3402), (2.539493, 1656), (2.555002, 1332), (2.561881, 702), (2.575751, 1728), (2.58119, 288), (2.58279, 1908), (2.592338, 1818), (2.592465, 2016), (2.594157, 1890), (2.597274, 720), (2.598191, 756), (2.599893, 540), (2.603705, 1998), (2.613951, 630), (2.623028, 1872), (2.625151, 1260), (2.630046, 1062), (2.639043, 1746), (2.639181, 1458), (2.643355, 936), (2.646017, 1476), (2.647836, 1584), (2.647861, 1404), (2.659209, 540), (2.662322, 1044), (2.664797, 396), (2.667055, 594), (2.685217, 432), (2.689474, 1152), (2.696747, 990), (2.697955, 792), (2.699774, 846), (2.704686, 1278), (2.706295, 1404), (2.706505, 1458), (2.709573, 540), (2.715063, 180), (2.71963, 144), (2.739234, 882), (2.742518, 198), (2.753382, 1008), (2.764088, 756), (2.765975, 1458), (2.76958, 576), (2.775788, 972), (2.781742, 72), (2.784571, 630), (2.78539, 288), (2.792598, 270), (2.809095, 828), (2.810796, 288), (2.811551, 1008), (2.814632, 630), (2.819956, 468), (2.821363, 990), (2.829504, 594), (2.833426, 720), (2.835547, 720), (2.842278, 1134), (2.846967, 684), (2.854869, 558), (2.866678, 1116), (2.87966, 378), (2.883342, 1008), (2.887506, 864), (2.888121, 1152), (2.890499, 1170), (2.891189, 936), (2.891257, 990), (2.892277, 1008), (2.899051, 216), (2.900895, 288), (2.913085, 810), (2.937853, 900), (2.94015, 252), (2.941851, 612), (2.947324, 810), (2.949806, 540), (2.950505, 630), (2.952206, 648), (2.958767, 648), (2.997083, 270), (3.001053, 396), (3.001167, 630), (3.002828, 720), (3.00485, 720), (3.006989, 936), (3.009014, 216), (3.012696, 666), (3.015781, 774), (3.016801, 882), (3.028105, 594), (3.044819, 972), (3.048959, 612), (3.057951, 270), (3.066918, 360), (3.073626, 756), (3.075445, 774), (3.076466, 468), (3.08156, 540), (3.083262, 522), (3.104135, 666), (3.134915, 684), (3.141766, 468), (3.161496, 828), (3.165372, 270), (3.17478, 414), (3.181716, 684), (3.190127, 450), (3.199674, 288), (3.200446, 90), (3.229904, 234), (3.239908, 630), (3.290224, 72), (3.298129, 198), (3.606574, 144), (3.616122, 144), (3.732799, 108), (3.742347, 108)]\n"
     ]
    }
   ],
   "source": [
    "n = 9\n",
    "G = nswap_generators(n)\n",
    "\n",
    "for _ in range(5):\n",
    "    p = random_tsp(n)\n",
    "    print(components(p, G, psi))"
   ]
  },
  {
   "cell_type": "markdown",
   "id": "91f654e5",
   "metadata": {},
   "source": [
    "The following function uses the previous `components` function\n",
    "to produce a sample of size `size` with random instances of problems given by `pfun`,\n",
    "generating sets given by `genfun`, and measure `measure`."
   ]
  },
  {
   "cell_type": "code",
   "execution_count": 3,
   "id": "81eda6c1",
   "metadata": {},
   "outputs": [],
   "source": [
    "def components_random_sample(n, pfun, genfun, measure, size):\n",
    "    sample = []\n",
    "    G = genfun(n)\n",
    "    for _ in range(size):\n",
    "        p = pfun(n)\n",
    "        #print(f\"New problem of size {n}\")\n",
    "        comps = components(p, G, measure)\n",
    "        sample.append(comps)\n",
    "    return sample"
   ]
  },
  {
   "cell_type": "markdown",
   "id": "75c08e19",
   "metadata": {},
   "source": [
    "The following function uses the previous to construct sets of samples,\n",
    "of instances of the problems starting with cardinality 2 and ending with `maxn`."
   ]
  },
  {
   "cell_type": "code",
   "execution_count": 4,
   "id": "da7bfd74",
   "metadata": {},
   "outputs": [],
   "source": [
    "def components_random_sampleset(maxn, pfun, genfun, measure, size):\n",
    "    samples = []\n",
    "    for n in range(2, maxn):\n",
    "        #print(f\"Now samples of size {n}\")\n",
    "        sample = components_random_sample(n, pfun, genfun, measure, size)\n",
    "        samples.append(sample)\n",
    "    return samples"
   ]
  },
  {
   "cell_type": "markdown",
   "id": "383d19bd",
   "metadata": {},
   "source": [
    "The following function uses the previous to plot the sets of samples."
   ]
  },
  {
   "cell_type": "code",
   "execution_count": 5,
   "id": "40026457",
   "metadata": {},
   "outputs": [],
   "source": [
    "def plot_sampleset(maxn, pfun, genfun, measure, size):\n",
    "    sampleset = components_random_sampleset(maxn, pfun, genfun, measure, size)\n",
    "    means, stds = [], []\n",
    "    for sample in sampleset:\n",
    "        comps = [len(c) for c in sample]\n",
    "        means.append(np.mean(comps))\n",
    "        stds.append(np.std(comps))\n",
    "    plt.errorbar(np.arange(2, len(means) + 2), means, stds, linestyle='None', marker='^')\n",
    "    return sampleset"
   ]
  },
  {
   "cell_type": "markdown",
   "id": "2e0c1e6d",
   "metadata": {},
   "source": [
    "Partial applications of `k_opt_generators`."
   ]
  },
  {
   "cell_type": "code",
   "execution_count": 6,
   "id": "2d740600",
   "metadata": {},
   "outputs": [],
   "source": [
    "def opt_2_gens(n):\n",
    "    return k_opt_generators(n, 2)\n",
    "\n",
    "def opt_3_gens(n):\n",
    "    return k_opt_generators(n, 3)\n",
    "\n",
    "def opt_4_gens(n):\n",
    "    return k_opt_generators(n, 4)"
   ]
  },
  {
   "cell_type": "markdown",
   "id": "d9eefe11",
   "metadata": {},
   "source": [
    "Now we use all the above to plot for different types of problem, generating sets, and measures."
   ]
  },
  {
   "cell_type": "markdown",
   "id": "55d2a434",
   "metadata": {},
   "source": [
    "First we check for the SP, using the `phi` measure,\n",
    "and both contiguous transpositions or transpositions in general as generating sets.\n",
    "Since the SP is solved in this way, we obtain flat lines at $1$:"
   ]
  },
  {
   "cell_type": "code",
   "execution_count": 8,
   "id": "d8c28bda",
   "metadata": {
    "scrolled": true
   },
   "outputs": [
    {
     "data": {
      "image/png": "[encoded data removed]",
      "text/plain": [
       "<Figure size 432x288 with 1 Axes>"
      ]
     },
     "metadata": {
      "needs_background": "light"
     },
     "output_type": "display_data"
    }
   ],
   "source": [
    "sampleset5 = plot_sampleset(9, random_sp, nswap_generators, phi, 5)"
   ]
  },
  {
   "cell_type": "code",
   "execution_count": 9,
   "id": "5f6c89f3",
   "metadata": {
    "scrolled": true
   },
   "outputs": [
    {
     "data": {
      "image/png": "[encoded data removed]",
      "text/plain": [
       "<Figure size 432x288 with 1 Axes>"
      ]
     },
     "metadata": {
      "needs_background": "light"
     },
     "output_type": "display_data"
    }
   ],
   "source": [
    "sampleset6 = plot_sampleset(9, random_sp, lswap_generators, phi, 5)"
   ]
  },
  {
   "cell_type": "markdown",
   "id": "e42bb9d9",
   "metadata": {},
   "source": [
    "If instead we use a 2-opt set of generators,\n",
    "we soon see that the solution spaces are broken up into components:"
   ]
  },
  {
   "cell_type": "code",
   "execution_count": 10,
   "id": "05c5015e",
   "metadata": {},
   "outputs": [
    {
     "data": {
      "image/png": "[encoded data removed]",
      "text/plain": [
       "<Figure size 432x288 with 1 Axes>"
      ]
     },
     "metadata": {
      "needs_background": "light"
     },
     "output_type": "display_data"
    }
   ],
   "source": [
    "sampleset9 = plot_sampleset(9, random_sp, opt_2_gens, phi, 5)"
   ]
  },
  {
   "cell_type": "markdown",
   "id": "ebf382d6",
   "metadata": {},
   "source": [
    "The 3-opt generators solve all instances of the SP though\n",
    "(after all, the set includes all contiguous transpositions):"
   ]
  },
  {
   "cell_type": "code",
   "execution_count": 11,
   "id": "5b3d4358",
   "metadata": {},
   "outputs": [
    {
     "data": {
      "image/png": "[encoded data removed]",
      "text/plain": [
       "<Figure size 432x288 with 1 Axes>"
      ]
     },
     "metadata": {
      "needs_background": "light"
     },
     "output_type": "display_data"
    }
   ],
   "source": [
    "sampleset10 = plot_sampleset(9, random_sp, opt_3_gens, phi, 5)"
   ]
  },
  {
   "cell_type": "markdown",
   "id": "b89e002f",
   "metadata": {},
   "source": [
    "We can also see that if we use, with instances of the SP, the `psi` rather than the `phi` measure,\n",
    "the generating sets that solved the problem no longer do:"
   ]
  },
  {
   "cell_type": "code",
   "execution_count": 12,
   "id": "af4c5116",
   "metadata": {
    "scrolled": false
   },
   "outputs": [
    {
     "data": {
      "image/png": "[encoded data removed]",
      "text/plain": [
       "<Figure size 432x288 with 1 Axes>"
      ]
     },
     "metadata": {
      "needs_background": "light"
     },
     "output_type": "display_data"
    }
   ],
   "source": [
    "sampleset3 = plot_sampleset(9, random_sp, nswap_generators, psi, 5)"
   ]
  },
  {
   "cell_type": "code",
   "execution_count": 13,
   "id": "bee2795e",
   "metadata": {
    "scrolled": true
   },
   "outputs": [
    {
     "data": {
      "image/png": "[encoded data removed]",
      "text/plain": [
       "<Figure size 432x288 with 1 Axes>"
      ]
     },
     "metadata": {
      "needs_background": "light"
     },
     "output_type": "display_data"
    }
   ],
   "source": [
    "sampleset4 = plot_sampleset(9, random_sp, lswap_generators, psi, 5)"
   ]
  },
  {
   "cell_type": "markdown",
   "id": "322eb189",
   "metadata": {},
   "source": [
    "Now, for the TSP, we can easily show that none of the generating sets,\n",
    "combined with the `psi` measure, solves all instances,\n",
    "though for higher complexities of the generating sets,\n",
    "it gets closer and closer.\n",
    "For example, for 8 cities, 3-opt generally solves it."
   ]
  },
  {
   "cell_type": "code",
   "execution_count": 14,
   "id": "9ad4a385",
   "metadata": {
    "scrolled": true
   },
   "outputs": [
    {
     "data": {
      "image/png": "[encoded data removed]",
      "text/plain": [
       "<Figure size 432x288 with 1 Axes>"
      ]
     },
     "metadata": {
      "needs_background": "light"
     },
     "output_type": "display_data"
    }
   ],
   "source": [
    "sampleset = plot_sampleset(9, random_tsp, nswap_generators, psi, 5)"
   ]
  },
  {
   "cell_type": "code",
   "execution_count": 15,
   "id": "1f292a37",
   "metadata": {
    "scrolled": true
   },
   "outputs": [
    {
     "data": {
      "image/png": "[encoded data removed]",
      "text/plain": [
       "<Figure size 432x288 with 1 Axes>"
      ]
     },
     "metadata": {
      "needs_background": "light"
     },
     "output_type": "display_data"
    }
   ],
   "source": [
    "sampleset2 = plot_sampleset(9, random_tsp, lswap_generators, psi, 5)"
   ]
  },
  {
   "cell_type": "code",
   "execution_count": 16,
   "id": "6842da76",
   "metadata": {},
   "outputs": [
    {
     "data": {
      "image/png": "[encoded data removed]",
      "text/plain": [
       "<Figure size 432x288 with 1 Axes>"
      ]
     },
     "metadata": {
      "needs_background": "light"
     },
     "output_type": "display_data"
    }
   ],
   "source": [
    "sampleset6 = plot_sampleset(9, random_tsp, opt_2_gens, psi, 5)"
   ]
  },
  {
   "cell_type": "code",
   "execution_count": 7,
   "id": "02c8da27",
   "metadata": {},
   "outputs": [
    {
     "data": {
      "image/png": "[encoded data removed]",
      "text/plain": [
       "<Figure size 432x288 with 1 Axes>"
      ]
     },
     "metadata": {
      "needs_background": "light"
     },
     "output_type": "display_data"
    }
   ],
   "source": [
    "sampleset7 = plot_sampleset(9, random_tsp, opt_3_gens, psi, 5)"
   ]
  },
  {
   "cell_type": "code",
   "execution_count": null,
   "id": "529cef26",
   "metadata": {},
   "outputs": [],
   "source": []
  }
 ],
 "metadata": {
  "kernelspec": {
   "display_name": "Python 3 (ipykernel)",
   "language": "python",
   "name": "python3"
  },
  "language_info": {
   "codemirror_mode": {
    "name": "ipython",
    "version": 3
   },
   "file_extension": ".py",
   "mimetype": "text/x-python",
   "name": "python",
   "nbconvert_exporter": "python",
   "pygments_lexer": "ipython3",
   "version": "3.9.5"
  }
 },
 "nbformat": 4,
 "nbformat_minor": 5
}
