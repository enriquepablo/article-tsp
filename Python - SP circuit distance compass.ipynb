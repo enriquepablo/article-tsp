{
 "cells": [
  {
   "cell_type": "markdown",
   "id": "f502ef30",
   "metadata": {},
   "source": [
    "## Python: (not) solving the SP - circuit distance"
   ]
  },
  {
   "cell_type": "markdown",
   "id": "6698bc5a",
   "metadata": {},
   "source": [
    "Here we use a Python implementation of the method to solve the SP\n",
    "that is based on diminishing the circuit distance.\n",
    "\n",
    "First we import some code.\n",
    "Note in particular the `solve_sp_fast` and `compass_d` functions from our companion [utils.py](utils.py) module,\n",
    "and `nswap_generators` from the [generators.py](generators.py) module."
   ]
  },
  {
   "cell_type": "code",
   "execution_count": 1,
   "id": "520cd674",
   "metadata": {},
   "outputs": [],
   "source": [
    "from timeit import timeit\n",
    "\n",
    "import numpy as np\n",
    "\n",
    "from utils import solve_sp_fast, compass_d\n",
    "from generators import nswap_generators"
   ]
  },
  {
   "cell_type": "markdown",
   "id": "2083299e",
   "metadata": {},
   "source": [
    "Then we use it to sort some lists.\n",
    "It is easy to see that most of the time,\n",
    "we will find an index that does not correspond to the solution."
   ]
  },
  {
   "cell_type": "code",
   "execution_count": 6,
   "id": "d539b846",
   "metadata": {},
   "outputs": [
    {
     "name": "stdout",
     "output_type": "stream",
     "text": [
      "[6 2 0 5 9 7 4 1 3 8]\n",
      "[4 1 2 5 8 3 0 6 7 9]\n",
      "[8 3 2 5 6 9 7 4 1 0]\n",
      "[3 6 8 4 0 5 9 7 2 1]\n",
      "[9 8 4 0 3 6 7 5 2 1]\n",
      "[6 8 9 7 3 2 0 1 4 5]\n",
      "[9 4 0 5 6 8 7 3 2 1]\n",
      "[9 7 6 5 4 1 0 2 3 8]\n",
      "[7 3 0 1 6 8 5 2 4 9]\n",
      "[5 6 8 9 7 4 2 0 1 3]\n"
     ]
    }
   ],
   "source": [
    "# create generator set\n",
    "\n",
    "gens = nswap_generators(10)\n",
    "\n",
    "# Check a few runs of the algorithm:\n",
    "\n",
    "for _ in range(10):\n",
    "    # Create a list of integers:\n",
    "    S = np.arange(10)\n",
    "    # Shuffle the list:\n",
    "    np.random.shuffle(S)\n",
    "    # run the algorithm\n",
    "    solve_sp_fast(S, gens, compass_d)"
   ]
  },
  {
   "cell_type": "code",
   "execution_count": null,
   "id": "c34ad5ea",
   "metadata": {},
   "outputs": [],
   "source": []
  }
 ],
 "metadata": {
  "kernelspec": {
   "display_name": "Python 3 (ipykernel)",
   "language": "python",
   "name": "python3"
  },
  "language_info": {
   "codemirror_mode": {
    "name": "ipython",
    "version": 3
   },
   "file_extension": ".py",
   "mimetype": "text/x-python",
   "name": "python",
   "nbconvert_exporter": "python",
   "pygments_lexer": "ipython3",
   "version": "3.9.5"
  }
 },
 "nbformat": 4,
 "nbformat_minor": 5
}
