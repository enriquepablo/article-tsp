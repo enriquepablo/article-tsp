{
 "cells": [
  {
   "cell_type": "markdown",
   "id": "2cb8100d",
   "metadata": {},
   "source": [
    "# A smarter algorithm"
   ]
  },
  {
   "cell_type": "markdown",
   "id": "9d281697",
   "metadata": {},
   "source": [
    "Here we just provide the \"smart\" algorithm,\n",
    "without testing it.\n",
    "To test it we need generating sets `G`\n",
    "which we provide in the following section."
   ]
  },
  {
   "cell_type": "code",
   "execution_count": 1,
   "id": "957038dd",
   "metadata": {},
   "outputs": [],
   "source": [
    "def build_curve(p, G, measure):\n",
    "    \n",
    "    m = measure(p)\n",
    "    curve = [p]\n",
    "    \n",
    "    changed = True\n",
    "    while changed:\n",
    "        changed = False\n",
    "    \n",
    "        next_p = None\n",
    "        next_m = 0\n",
    "\n",
    "        for g in G:\n",
    "            maybe_p = p @ g\n",
    "            maybe_m = measure(maybe_p)\n",
    "\n",
    "            if maybe_m < m:\n",
    "                if next_p is None or maybe_m < next_m:\n",
    "                    changed = True\n",
    "                    \n",
    "                    next_p = maybe_p\n",
    "                    next_m = maybe_m\n",
    "                    \n",
    "        if changed:\n",
    "            p = next_p\n",
    "            m = next_m\n",
    "            curve.append(p)\n",
    "        \n",
    "    return curve"
   ]
  },
  {
   "cell_type": "code",
   "execution_count": null,
   "id": "cd0eea1f",
   "metadata": {},
   "outputs": [],
   "source": []
  }
 ],
 "metadata": {
  "kernelspec": {
   "display_name": "Python 3 (ipykernel)",
   "language": "python",
   "name": "python3"
  },
  "language_info": {
   "codemirror_mode": {
    "name": "ipython",
    "version": 3
   },
   "file_extension": ".py",
   "mimetype": "text/x-python",
   "name": "python",
   "nbconvert_exporter": "python",
   "pygments_lexer": "ipython3",
   "version": "3.9.5"
  }
 },
 "nbformat": 4,
 "nbformat_minor": 5
}
