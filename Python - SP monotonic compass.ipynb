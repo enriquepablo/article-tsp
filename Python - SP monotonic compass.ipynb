{
 "cells": [
  {
   "cell_type": "markdown",
   "id": "f502ef30",
   "metadata": {},
   "source": [
    "## Python: solving the SP - distance to monotonic index"
   ]
  },
  {
   "cell_type": "markdown",
   "id": "6698bc5a",
   "metadata": {},
   "source": [
    "Here we use a Python implementation of the method to solve the SP\n",
    "that is based on diminishing the vector distance to an arbitrary monotonic distribution.\n",
    "\n",
    "Given an ISP with $\\mathbf{c} = |\\mathbf{S}|$, we will just pick $[1..\\mathbf{c}]$\n",
    "as our target monotonic distribution.\n",
    "\n",
    "First we import some code.\n",
    "Note in particular the `solve_sp_fast` and `compass_m` functions from our companion [utils.py](utils.py) module,\n",
    "and `nswap_generators` from the [generators.py](generators.py) module."
   ]
  },
  {
   "cell_type": "code",
   "execution_count": 2,
   "id": "520cd674",
   "metadata": {},
   "outputs": [],
   "source": [
    "from timeit import timeit\n",
    "\n",
    "import numpy as np\n",
    "\n",
    "from utils import solve_sp_fast, compass_m\n",
    "from generators import nswap_generators"
   ]
  },
  {
   "cell_type": "markdown",
   "id": "2083299e",
   "metadata": {},
   "source": [
    "Then we use it to sort some lists.\n",
    "It is easy to see that as our lists get longer,\n",
    "the performance suffers little."
   ]
  },
  {
   "cell_type": "code",
   "execution_count": 3,
   "id": "d539b846",
   "metadata": {},
   "outputs": [
    {
     "name": "stdout",
     "output_type": "stream",
     "text": [
      "[0 1 2 3 4 5]\n"
     ]
    },
    {
     "data": {
      "text/plain": [
       "0.001579029019922018"
      ]
     },
     "execution_count": 3,
     "metadata": {},
     "output_type": "execute_result"
    }
   ],
   "source": [
    "# Create a list of integers:\n",
    "\n",
    "S = np.arange(6)\n",
    "\n",
    "# Shuffle the list:\n",
    "\n",
    "np.random.shuffle(S)\n",
    "\n",
    "# create generator set\n",
    "\n",
    "gens = nswap_generators(6)\n",
    "\n",
    "# Check the time our naive function takes to sort it:\n",
    "\n",
    "timeit(\"solve_sp_fast(S, gens, compass_m)\", number=1, globals=globals())"
   ]
  },
  {
   "cell_type": "markdown",
   "id": "a5f8caef",
   "metadata": {},
   "source": [
    "Now with a list of 8 integers:"
   ]
  },
  {
   "cell_type": "code",
   "execution_count": 5,
   "id": "7346e5d2",
   "metadata": {},
   "outputs": [
    {
     "name": "stdout",
     "output_type": "stream",
     "text": [
      "[0 1 2 3 4 5 6 7]\n"
     ]
    },
    {
     "data": {
      "text/plain": [
       "0.002316241036169231"
      ]
     },
     "execution_count": 5,
     "metadata": {},
     "output_type": "execute_result"
    }
   ],
   "source": [
    "S = np.arange(8)\n",
    "\n",
    "np.random.shuffle(S)\n",
    "\n",
    "gens = nswap_generators(8)\n",
    "\n",
    "timeit(\"solve_sp_fast(S, gens, compass_m)\", number=1, globals=globals())"
   ]
  },
  {
   "cell_type": "markdown",
   "id": "57814679",
   "metadata": {},
   "source": [
    "And with a list of 10 integers:"
   ]
  },
  {
   "cell_type": "code",
   "execution_count": 6,
   "id": "32ebbd43",
   "metadata": {},
   "outputs": [
    {
     "name": "stdout",
     "output_type": "stream",
     "text": [
      "[0 1 2 3 4 5 6 7 8 9]\n"
     ]
    },
    {
     "data": {
      "text/plain": [
       "0.003819979028776288"
      ]
     },
     "execution_count": 6,
     "metadata": {},
     "output_type": "execute_result"
    }
   ],
   "source": [
    "S = np.arange(10)\n",
    "\n",
    "np.random.shuffle(S)\n",
    "\n",
    "gens = nswap_generators(10)\n",
    "\n",
    "timeit(\"solve_sp_fast(S, gens, compass_m)\", number=1, globals=globals())"
   ]
  },
  {
   "cell_type": "markdown",
   "id": "005cc55d",
   "metadata": {},
   "source": [
    "And finally 100 integers:"
   ]
  },
  {
   "cell_type": "code",
   "execution_count": 7,
   "id": "7579206f",
   "metadata": {},
   "outputs": [
    {
     "name": "stdout",
     "output_type": "stream",
     "text": [
      "[ 0  1  2  3  4  5  6  7  8  9 10 11 12 13 14 15 16 17 18 19 20 21 22 23\n",
      " 24 25 26 27 28 29 30 31 32 33 34 35 36 37 38 39 40 41 42 43 44 45 46 47\n",
      " 48 49 50 51 52 53 54 55 56 57 58 59 60 61 62 63 64 65 66 67 68 69 70 71\n",
      " 72 73 74 75 76 77 78 79 80 81 82 83 84 85 86 87 88 89 90 91 92 93 94 95\n",
      " 96 97 98 99]\n"
     ]
    },
    {
     "data": {
      "text/plain": [
       "2.3941782400361262"
      ]
     },
     "execution_count": 7,
     "metadata": {},
     "output_type": "execute_result"
    }
   ],
   "source": [
    "S = np.arange(100)\n",
    "\n",
    "np.random.shuffle(S)\n",
    "\n",
    "gens = nswap_generators(100)\n",
    "\n",
    "timeit(\"solve_sp_fast(S, gens, compass_m)\", number=1, globals=globals())"
   ]
  },
  {
   "cell_type": "code",
   "execution_count": null,
   "id": "c34ad5ea",
   "metadata": {},
   "outputs": [],
   "source": []
  }
 ],
 "metadata": {
  "kernelspec": {
   "display_name": "Python 3 (ipykernel)",
   "language": "python",
   "name": "python3"
  },
  "language_info": {
   "codemirror_mode": {
    "name": "ipython",
    "version": 3
   },
   "file_extension": ".py",
   "mimetype": "text/x-python",
   "name": "python",
   "nbconvert_exporter": "python",
   "pygments_lexer": "ipython3",
   "version": "3.9.5"
  }
 },
 "nbformat": 4,
 "nbformat_minor": 5
}
