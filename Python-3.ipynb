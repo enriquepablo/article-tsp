{
 "cells": [
  {
   "cell_type": "markdown",
   "id": "7679a27a",
   "metadata": {},
   "source": [
    "# Brute force"
   ]
  },
  {
   "cell_type": "markdown",
   "id": "3430e03b",
   "metadata": {},
   "source": [
    "Here we implement a brute force algorithm to solve any instance\n",
    "of either the SP or the TSP."
   ]
  },
  {
   "cell_type": "code",
   "execution_count": 1,
   "id": "b6144de7",
   "metadata": {},
   "outputs": [],
   "source": [
    "from timeit import timeit\n",
    "\n",
    "import numpy as np\n",
    "from sympy.utilities.iterables import multiset_permutations\n",
    "import matplotlib.pyplot as plt\n",
    "\n",
    "from utils import random_sp, phi"
   ]
  },
  {
   "cell_type": "code",
   "execution_count": 2,
   "id": "a0e9e1cc",
   "metadata": {},
   "outputs": [],
   "source": [
    "def brute_force(p, measure):\n",
    "    initial = np.array(p)\n",
    "    m = measure(initial)\n",
    "    solution = initial\n",
    "    for maybe_solution in multiset_permutations(initial):\n",
    "        maybe_m = measure(maybe_solution)\n",
    "        if maybe_m < m:\n",
    "            solution = maybe_solution\n",
    "            m = maybe_m\n",
    "    return solution"
   ]
  },
  {
   "cell_type": "markdown",
   "id": "f7a24d80",
   "metadata": {},
   "source": [
    "Let us try this with up to 11 numbers to sort"
   ]
  },
  {
   "cell_type": "code",
   "execution_count": 3,
   "id": "af146a1c",
   "metadata": {},
   "outputs": [],
   "source": [
    "def brute_random(n):\n",
    "    points = []\n",
    "    for c in range(1, n):\n",
    "        sp = random_sp(c)\n",
    "        t = timeit(lambda: print(f\"Result for random problem with n = {c}: {brute_force(sp, phi)}\"), number=1)\n",
    "        points.append(t)\n",
    "    plt.plot(points)\n",
    "    plt.show()"
   ]
  },
  {
   "cell_type": "code",
   "execution_count": 4,
   "id": "8b306095",
   "metadata": {},
   "outputs": [
    {
     "name": "stdout",
     "output_type": "stream",
     "text": [
      "Result for random problem with n = 1: [0.87684194]\n",
      "Result for random problem with n = 2: [0.02894416 0.44307864]\n",
      "Result for random problem with n = 3: [0.063974776938865, 0.12417791818947244, 0.7278660194713104]\n",
      "Result for random problem with n = 4: [0.12137776973310066, 0.20662431430627937, 0.3492832458080235, 0.9697239972647259]\n",
      "Result for random problem with n = 5: [0.08283156406571046, 0.43092371680199026, 0.5093626041336652, 0.5961258405222577, 0.9800616677813692]\n",
      "Result for random problem with n = 6: [0.008431745081934006, 0.6054486408562221, 0.9165554287156302, 0.9317297445654098, 0.9520329681383124, 0.985951411602781]\n",
      "Result for random problem with n = 7: [0.2668102240619874, 0.2911035032902516, 0.3214187607903738, 0.48308186276403053, 0.49120712212191064, 0.6919571435596985, 0.9577299843630782]\n",
      "Result for random problem with n = 8: [0.1684627819438771, 0.30713966027446615, 0.38600128229013353, 0.6012866804497118, 0.6387004484460119, 0.7919057416762834, 0.8955364372949512, 0.8994782540824561]\n",
      "Result for random problem with n = 9: [0.025743604940925424, 0.16462651602553402, 0.3222845096678909, 0.3610887487410127, 0.3619745250808475, 0.4300319654258067, 0.8081230854970075, 0.8990679344012618, 0.9312937483426774]\n",
      "Result for random problem with n = 10: [0.11487077237858645, 0.28763065457335657, 0.3075876784318211, 0.4234960959109073, 0.43500335999859474, 0.47285591038116936, 0.5514135538746555, 0.5518917797801896, 0.8682751190998456, 0.9357757479131358]\n",
      "Result for random problem with n = 11: [0.23231389658890267, 0.2597519015173727, 0.35714462037793004, 0.5203211196826176, 0.528456990240343, 0.5446117056765637, 0.7079894483875225, 0.7872900309935985, 0.9245839292454017, 0.9753468322843132, 0.9818103116540244]\n"
     ]
    },
    {
     "data": {
      "image/png": "[encoded data removed]",
      "text/plain": [
       "<Figure size 432x288 with 1 Axes>"
      ]
     },
     "metadata": {
      "needs_background": "light"
     },
     "output_type": "display_data"
    }
   ],
   "source": [
    "brute_random(12)"
   ]
  },
  {
   "cell_type": "markdown",
   "id": "eb46c02a",
   "metadata": {},
   "source": [
    "So sorting 12 elements with this algorithm would take my system around an hour. Impractical, to say the least.\n",
    "Finding slutions for the TSP would be equally expensive."
   ]
  },
  {
   "cell_type": "code",
   "execution_count": null,
   "id": "9eceea38",
   "metadata": {},
   "outputs": [],
   "source": []
  }
 ],
 "metadata": {
  "kernelspec": {
   "display_name": "Python 3 (ipykernel)",
   "language": "python",
   "name": "python3"
  },
  "language_info": {
   "codemirror_mode": {
    "name": "ipython",
    "version": 3
   },
   "file_extension": ".py",
   "mimetype": "text/x-python",
   "name": "python",
   "nbconvert_exporter": "python",
   "pygments_lexer": "ipython3",
   "version": "3.9.5"
  }
 },
 "nbformat": 4,
 "nbformat_minor": 5
}
