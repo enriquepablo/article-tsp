{
 "cells": [
  {
   "cell_type": "markdown",
   "id": "e586218a",
   "metadata": {},
   "source": [
    "# More complex generating sets don't guarantee the solution for TSP"
   ]
  },
  {
   "cell_type": "markdown",
   "id": "14f0bae9",
   "metadata": {},
   "source": [
    "Here we show an algorithm that produces instances of the TSP\n",
    "in which the 2 shortest circuits are an arbitrary number of breaks away from each other,\n",
    "thus showing that the complexity of the minimum generating set needed\n",
    "to guarantee a solution for any instance of the TSP with $n$ cities\n",
    "depends directly on $n$.\n",
    "\n",
    "The function is as follows:"
   ]
  },
  {
   "cell_type": "code",
   "execution_count": 1,
   "id": "1ac77c75",
   "metadata": {},
   "outputs": [],
   "source": [
    "def arbitrarily_difficult_tsp(n=1):\n",
    "    angle = - math.pi / 4\n",
    "    current = 0.0 + 0.0j\n",
    "    points = [-2.0 + 1.0j, -1.0 + 0.8j, current]\n",
    "    for _ in range(n):\n",
    "        current += 1.0\n",
    "        points.append(current)\n",
    "        current += 1.0j\n",
    "        points.append(current)\n",
    "        current += -1.0\n",
    "        points.append(current)\n",
    "        current += 1.0j\n",
    "        points.append(current)\n",
    "        current += 1.0j\n",
    "        points.append(current)\n",
    "        current += 1.0\n",
    "        points.append(current)\n",
    "        current += -1.0j\n",
    "        points.append(current)\n",
    "        current += 1.0\n",
    "        points.append(current)\n",
    "\n",
    "    current += 1.0\n",
    "    points.append(current)\n",
    "    current += 1.0j\n",
    "    points.append(current)\n",
    "    current += -1.0\n",
    "    points.append(current)\n",
    "    current += 1.0j\n",
    "    points.append(current + 0.1)\n",
    "\n",
    "    current += 1.0j\n",
    "    points.append(current)\n",
    "    current += 1.0j\n",
    "    points.append(current)\n",
    "    for _ in range(n // 2):\n",
    "        current += -2.0\n",
    "        points.append(current)\n",
    "        current += -2.0\n",
    "        points.append(current)\n",
    "\n",
    "    current += -2.0\n",
    "    points.append(current)\n",
    "\n",
    "    current += -1.0 - 1.0j\n",
    "    points.append(current)\n",
    "    for _ in range(n // 2):\n",
    "        current += -2.0j\n",
    "        points.append(current)\n",
    "        current += -2.0j\n",
    "        points.append(current)\n",
    "\n",
    "    current += -2.0j\n",
    "    points.append(current)\n",
    "\n",
    "    rotation = math.cos(angle) + math.sin(angle) * 1j\n",
    "\n",
    "    points = [rotation * p for p in points]\n",
    "\n",
    "    return points"
   ]
  },
  {
   "cell_type": "markdown",
   "id": "ea97178d",
   "metadata": {},
   "source": [
    "The idea is that, if the points were all regularly spaced,\n",
    "both tours below (and many others) would provide alternative solutions\n",
    "to the proposed instance of the problem.\n",
    "\n",
    "However, by slightly moving the points marked \"a\" and \"b\",\n",
    "it is easy to arrange them in such a way that the 2 tours below\n",
    "are the 2 shortest possible tours, with one of them slightly longer than the other,\n",
    "and that any other tour would be longer than both of them."
   ]
  },
  {
   "cell_type": "markdown",
   "id": "fde3540d",
   "metadata": {},
   "source": [
    "![Fig. 1](./left.png)"
   ]
  },
  {
   "cell_type": "markdown",
   "id": "3b37954d",
   "metadata": {},
   "source": [
    "![Fig. 2](./right.png)"
   ]
  },
  {
   "cell_type": "code",
   "execution_count": null,
   "id": "4e20ec5c",
   "metadata": {},
   "outputs": [],
   "source": []
  }
 ],
 "metadata": {
  "kernelspec": {
   "display_name": "Python 3 (ipykernel)",
   "language": "python",
   "name": "python3"
  },
  "language_info": {
   "codemirror_mode": {
    "name": "ipython",
    "version": 3
   },
   "file_extension": ".py",
   "mimetype": "text/x-python",
   "name": "python",
   "nbconvert_exporter": "python",
   "pygments_lexer": "ipython3",
   "version": "3.9.5"
  }
 },
 "nbformat": 4,
 "nbformat_minor": 5
}
