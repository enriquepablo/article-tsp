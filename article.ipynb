{
 "cells": [
  {
   "cell_type": "markdown",
   "id": "9ceee404",
   "metadata": {},
   "source": [
    "# Sorting the travelling salesman problem\n",
    "\n",
    "Enrique Pérez Arnaud"
   ]
  },
  {
   "cell_type": "markdown",
   "id": "23b20fe8",
   "metadata": {},
   "source": [
    "## Abstract\n",
    "\n",
    "In this paper I use *machine learning* (ML) to produce some evidence supporting the possibility of finding a polynomial time algorithm for solving instances of the *travelling salesman problem* (TSP).\n",
    "\n",
    "The decision we ask the ML models to make is as follows.\n",
    "First we create a random distribution of points in the plane;\n",
    "a distribution that the model has never seen.\n",
    "Then we look for the shortest possible circuit of the points that we can find,\n",
    "which is not necessarily the solution to the instance of the problem;\n",
    "and then we ask the model whether the circuit is actually the shortest,\n",
    "i.e., whether it is the solution,\n",
    "or whether there may be some shorter circuit that we have not found.\n",
    "It is a binary classification task, i.e.,\n",
    "we don't ask the model for a shorter circuit.\n",
    "\n",
    "Our models are producing (percentage) confusion matrices like\n",
    "$\\left[\\begin{smallmatrix}61 & 39 \\\\\\\\ 26 & 74\\end{smallmatrix}\\right]$, which, to me, seem significative.\n",
    "\n",
    "Note that the evidence shown is not conclussive,\n",
    "mainly beacuse the data used in the models is taken from instances of the problem with, at most, 31 cities.\n",
    "\n",
    "To understand what kind of data we are feeding the ML models,\n",
    "and the significance of the predictions,\n",
    "I provide an introduction in which the TSP is approached from the perspective of the *sorting problem* (SP) - i.e.,\n",
    "the problem that is solved by sorting algorithms.\n",
    "Note that both problems have the same basic form:\n",
    "we want to choose one among all the permutations of a set of elements, according to some criterion.\n",
    "But, whereas the SP can be solved in fairly efficient ways, the TSP cannot.\n",
    "Thus we want to understand the difference between both problems\n",
    "that is the basis for the difference in efficiency of the algorithms we use to solve them.\n",
    "We want to understand the precise shape of the input data to both problems,\n",
    "and the characteristics of the data that are present in instances of the SP\n",
    "and absent in instances of the TSP,\n",
    "so that we can provide our ML models with sufficient and appropriately shaped data."
   ]
  },
  {
   "cell_type": "markdown",
   "id": "ea139b34",
   "metadata": {},
   "source": [
    "### The sorting problem\n",
    "\n",
    "As said above, what we refer to here as the SP is the problem that is solved by sorting algorithms.\n",
    "For simplicity, here I will only consider sorting lists with no repeated elements,\n",
    "but the argument might easily be transformed to cover lists with repeated elements.\n",
    "\n",
    "There are 2 sides to the SP:\n",
    "The first is to get to the solution,\n",
    "and the second is to get there efficiently.\n",
    "So the first step here will be to formalize the first side of the problem:\n",
    "what exactly is an instance of the problem, and what its solution.\n",
    "This formalization is geared towards extending it to cover the TSP,\n",
    "so it is not necessarily the most natural formalization of the SP.\n",
    "Later, a second step will be to examine the different algorithms\n",
    "(and their efficiencies)\n",
    "that we can use to go from an instance of the problem to its solution."
   ]
  },
  {
   "cell_type": "markdown",
   "id": "350c05b8",
   "metadata": {},
   "source": [
    "I will start with a basic definition. Given a finite set $\\mathbf{S}$, with $\\mathbf{c} = |\\mathbf{S}|$ being its cardinality, an *index* on $\\mathbf{S}$ is a bijective map from $[1..\\mathbf{c}] \\subset \\mathbb{N}$ to $\\mathbf{S}$. We denote by $\\mathbf{I}_\\mathbf{S}$ the set of indexes on $\\mathbf{S}$:\n",
    "\n",
    "$$\n",
    "\\mathbf{I}_\\mathbf{S} = \\{ \\mathbf{i}: [1..\\mathbf{c}] \\rightarrow \\mathbf{S} \\}\n",
    "$$"
   ]
  },
  {
   "cell_type": "markdown",
   "id": "e63b571b",
   "metadata": {},
   "source": [
    "Given this, we can specify an *instance of the SP* (an ISP) providing a set $\\mathbf{S}$ and an index $\\mathbf{i}$ on it,\n",
    "where $\\mathbf{S}$ is a finite subset of some universal set $\\mathbf{U}$ from which it inherits\n",
    "a total order relation $\\le_\\mathbf{S}$.\n",
    "\n",
    "The solution to this ISP that we are asked for is another particular index $\\mathbf{j} \\in \\mathbf{I}_\\mathbf{S}$ that is monotonic wrt $\\le_\\mathbf{S}$."
   ]
  },
  {
   "cell_type": "markdown",
   "id": "15a51437",
   "metadata": {},
   "source": [
    "Since we want constructible elements in $\\mathbf{U}$,\n",
    "so that we can fully provide them in the specification of an ISP,\n",
    "and at the same time we want the most freedom in choosing $\\mathbf{S}$,\n",
    "we can assume $\\mathbf{U}$ to be here the set of rationals, $\\mathbb{Q}$,\n",
    "and $\\le_\\mathbf{S}$ the ususal $\\le$ in $\\mathbb{Q}$."
   ]
  },
  {
   "cell_type": "markdown",
   "id": "2940f0a5",
   "metadata": {},
   "source": [
    "### Graph theoretic picture of the SP\n",
    "\n",
    "At this point, it is convenient to provide a graph theoretic picture of the structure at hand.\n",
    "We can define here a directed graph $\\Psi_\\mathbf{S}$, in which each node is a permutation of $\\mathbf{S}$,\n",
    "taken as a pair of linear orderings on $\\mathbf{S}$,\n",
    "one given by an index $\\mathbf{i}$ and the other given by $\\le_\\mathbf{S}$,\n",
    "so each node can be represented by its index;\n",
    "and in which each directed edge is also a permutation,\n",
    "this time taken as an automorphism on $\\mathbf{S}$.\n",
    "This is a total graph, in which there is an edge from any node to any other node.\n",
    "We will denote here the set of vertices of $\\Psi_\\mathbf{S}$ by $\\mathbf{V}[\\Psi_\\mathbf{S}]$, and its set of edges by $\\mathbf{E}[\\Psi_\\mathbf{S}]$.\n",
    "\n",
    "In this graph picture, an ISP is given by any arbitrary node $\\mathbf{i} \\in \\mathbf{V}[\\Psi_\\mathbf{S}]$. We will use the same symbol to refer to a node and to its index."
   ]
  },
  {
   "cell_type": "markdown",
   "id": "a214e984",
   "metadata": {},
   "source": [
    "### Solving the SP - naïve algorithm\n",
    "\n",
    "Given all this, we can provide a criterion, a function,\n",
    "that given an index on a finite set $\\mathbf{S}$ on which there is a total order relation,\n",
    "decides whether it is monotonic wrt that order relation - whether it is ordered.\n",
    "\n",
    "First we build a function $\\mathbf{lt} : \\mathbb{Q}^2 \\rightarrow \\{0,1\\}$ that tels us whether 2 elements are ordered:\n",
    "\n",
    "$$\n",
    "\\mathbf{lt}(a,b) \\mapsto \\begin{cases} 0 & \\text{if } a > b \\\\ 1 & \\text{if } a \\le b \\end{cases}\n",
    "$$"
   ]
  },
  {
   "cell_type": "markdown",
   "id": "7ad71766",
   "metadata": {},
   "source": [
    "Then we build a function $\\mathbf{O} : \\mathbf{I}_\\mathbf{S} \\rightarrow \\{0,1\\}$ that tells us whether an index on $\\mathbf{S}$ is monotonic:\n",
    "\n",
    "$$\n",
    "\\mathbf{O}(\\mathbf{i}) \\mapsto \\prod_{n=1}^{\\mathbf{c}-1} \\mathbf{lt}(\\mathbf{i}(n), \\mathbf{i}(n+1))\n",
    "$$"
   ]
  },
  {
   "cell_type": "markdown",
   "id": "8597ae81",
   "metadata": {},
   "source": [
    "So now we can devise a simple algorithm to obtain a solution given any ISP:\n",
    "Construct the set of all permutations of the index provided in the spec of the problem,\n",
    "and check each for monotonicity, and choose the one that is monotonic.\n",
    "\n",
    "[Here](Python%20-%20SP%20brute%20force.ipynb) can be found a demonstration of this algorithm in Python,\n",
    "that shows how phenomenally inefficient it is."
   ]
  },
  {
   "cell_type": "markdown",
   "id": "8b66ebec",
   "metadata": {},
   "source": [
    "### Graph theoretic picture of the naïve algorithm to solve the SP\n",
    "\n",
    "To understand this algorithm in graph terms,\n",
    "we start from the total graph $\\Psi_\\mathbf{S}$, and a distinguished node $\\mathbf{i}$ -\n",
    "the one given by the index provided in the spec of the ISP.\n",
    "We have in this graph a lot of edges, and we want to choose one,\n",
    "that takes us from $\\mathbf{i}$ to the solution $\\mathbf{j}$.\n",
    "We start by discarding all edges $\\mathbf{e} \\in \\mathbf{E}[\\Psi_\\mathbf{S}]$ whose source $\\mathbf{src}(\\mathbf{e}) \\neq \\mathbf{i}$.\n",
    "Then, we give a weight to each of the edges $\\mathbf{e}$ with $\\mathbf{src}(\\mathbf{e}) = \\mathbf{i}$:\n",
    "we assign 1 when the index of the destination node $\\mathbf{dst}(\\mathbf{e})$ of the edge is monotonic, and -1 otherwise.\n",
    "Finally we discard all the nodes with weight -1,\n",
    "and we are left with a single edge with source in the distinguished node and destination in the solution node (assuming, as said above, that there are no repeated elements in $\\mathbf{S}$)."
   ]
  },
  {
   "cell_type": "markdown",
   "id": "a9c60d22-3045-4f37-bb06-267977084c4f",
   "metadata": {},
   "source": [
    "### Towards better algorithms\n",
    "\n",
    "Now we get to the 2nd part of the problem: can we do better (in terms of resources needed for the computation)?"
   ]
  },
  {
   "cell_type": "markdown",
   "id": "6cecae3e-a898-4bb6-96b8-35bd5e90487c",
   "metadata": {},
   "source": [
    "The problematic thing we've done above,\n",
    "wrt computation cost,\n",
    "is to gather all permutations of the given index of $\\mathbf{S}$.\n",
    "The set $\\mathbf{P}_\\mathbf{S}$ of permutations of $\\mathbf{S}$,\n",
    "in general, is very big - $|\\mathbf{P}_\\mathbf{S}| = \\mathbf{c}!$.\n",
    "But, in addition, this set can be given the structure of a group,\n",
    "which means that we can have a very small set\n",
    "$\\mathbf{G}_\\mathbf{S} \\subset \\mathbf{P}_\\mathbf{S}$ of generators for the group,\n",
    "with the guarantee that we can go from any element of the group (any index on $\\mathbf{S}$) to any other\n",
    "by multiplying it with some sequence of elements from this set of generators."
   ]
  },
  {
   "cell_type": "markdown",
   "id": "df6e7616",
   "metadata": {},
   "source": [
    "Note that Ps and Is are isomorphic as (non abelian) groups; with concatenation as the group operation for Is, and application for Ps."
   ]
  },
  {
   "cell_type": "markdown",
   "id": "a5df195a",
   "metadata": {},
   "source": [
    "So in the naïve method, given an element p in Ps, we check all the other elements of Ps to see whether they combine with p to produce a monotonic ordering of S. Restricting ourselves to a generator set Gs, we want to find a sequence of elelements of Gs that, combined with p, produce a monotonic ordering of S."
   ]
  },
  {
   "cell_type": "markdown",
   "id": "b404d819-3c23-4aad-ac1c-9cbe4642ca64",
   "metadata": {},
   "source": [
    "In graph theoretic terms,\n",
    "what we are doing is taking a subgraph $\\Phi_{\\mathbf{S},\\mathbf{G}_\\mathbf{S}} \\leq \\Psi_\\mathbf{S}$,\n",
    "in which we remove all edges in $\\mathbf{E}[\\Psi_\\mathbf{S}]$ that do not correspond\n",
    "to elements of the set of generators.\n",
    "\n",
    "$$\n",
    "\\mathbf{E}[\\Phi_{\\mathbf{S},\\mathbf{G}_\\mathbf{S}}] = \\{\\mathbf{e} \\in \\mathbf{E}[\\Psi_\\mathbf{S}] : \\mathbf{p}(\\mathbf{e}) \\in \\mathbf{G}_\\mathbf{S}\\}\n",
    "$$\n",
    "\n",
    "Where $\\mathbf{p}(\\mathbf{e})$ denotes the permutation in $\\mathbf{P}_\\mathbf{S}$ that corresponds to the given edge $\\mathbf{e}$.\n",
    "\n",
    "\n",
    "now we can go from any node to any other node, but following a (directed) path rather than just an edge."
   ]
  },
  {
   "cell_type": "markdown",
   "id": "69e19d2b",
   "metadata": {},
   "source": [
    "### Generator sets\n",
    "\n",
    "There are many kinds of generator sets,\n",
    "and we are not going here to try to provide a systematic clasification of them.\n",
    "We are just going to define a class of them,\n",
    "that will be useful for our purposes.\n",
    "This class is based on a special permutation,\n",
    "which we will call a *roller permutation*, denoted by $\\mathbf{r}_\\mathbf{c} \\in \\mathbf{P}_\\mathbf{S}$\n",
    "given that $\\mathbf{c} = |\\mathbf{S}|$:\n",
    "\n",
    "$$\n",
    "\\mathbf{r}_\\mathbf{c} = (2,3, ... \\mathbf{c}-1,\\mathbf{c},1)\n",
    "$$\n",
    "\n",
    "Given this, we will call a generator set *rollable* if applying  $\\mathbf{r}_\\mathbf{c}$ to all its elements\n",
    "results in the same unchanged generator set.\n",
    "\n",
    "So, for example, the simplest generator set for a symmetric group, given by the roller permutation and the permutation that swaps the 1st 2 elements, would not be rollable,\n",
    "but the generator set consisting of $\\mathbf{c}$ elements, each swapping 2 different consecutive elements,\n",
    "would be rollable.\n",
    "\n",
    "[Here](generators.py) we can find a Python module\n",
    "that will allow us to construct different (rollable) generator sets,\n",
    "in the form of lists of permutation matrices."
   ]
  },
  {
   "cell_type": "markdown",
   "id": "3ab8ccfd-3d4b-4997-b299-7f412da8de6d",
   "metadata": {},
   "source": [
    "### Compass functions\n",
    "\n",
    "Choosing a generator set can help wrt performance, but not if we keep our test - monotonicity.\n",
    "This test has a boolean value, and is only true on the full solution.\n",
    "Any other index is just false;\n",
    "this means that we need a full path on $\\Phi_{\\mathbf{S},\\mathbf{G}_\\mathbf{S}}$ to know whether it leads to the solution.\n",
    "What we want is a test that we can apply at each node in the graph,\n",
    "so we can build a path step by step.\n",
    "A kind of compass to navigate the graph,\n",
    "so that at each node,\n",
    "we only have to consider as possible next nodes\n",
    "those provided by $\\mathbf{G}_\\mathbf{S}$."
   ]
  },
  {
   "cell_type": "markdown",
   "id": "3ca89021-f71b-4ba1-a1be-055481d5ed33",
   "metadata": {},
   "source": [
    "Definition: A compass function $\\mathcal{c} \\in \\mathcal{C}_\\mathbf{S}$ is a map from the set of indexes $\\mathbf{I}_\\mathbf{S}$ of some $\\mathbf{S}$ to $\\mathbb{Q}$.\n",
    "\n",
    "$$\n",
    "\\mathcal{C}_\\mathbf{S} = \\{\\mathcal{c} : \\mathbf{I}_\\mathbf{S} \\rightarrow \\mathbb{Q}\\}\n",
    "$$"
   ]
  },
  {
   "cell_type": "markdown",
   "id": "7c73327b-5425-4bb4-b63c-66ecbf623e49",
   "metadata": {},
   "source": [
    "Regarding graphs, a compass function $\\mathcal{c}$ allows us to define\n",
    "a weight function $\\mathbf{w}_\\mathcal{c}: \\mathbf{E}[\\Phi_{\\mathbf{S},\\mathbf{G}_\\mathbf{S}}] \\rightarrow \\mathbb{Q}$ on the edges of the graph:\n",
    "\n",
    "$$\n",
    "\\mathbf{w}_\\mathcal{c}(\\mathbf{e}) \\mapsto \\mathcal{c}(\\mathbf{dst}(\\mathbf{e})) - \\mathcal{c}(\\mathbf{src}(\\mathbf{e}))\n",
    "$$\n",
    "\n",
    "This allows us to further refine $\\Phi_{\\mathbf{S},\\mathbf{G}_\\mathbf{S}}$ to only include edges with a negative weight.\n",
    "Let's call this new graph $\\Omega_{\\mathbf{S},\\mathbf{G}_\\mathbf{S},\\mathcal{c}} \\leq \\Phi_{\\mathbf{S},\\mathbf{G}_\\mathbf{S}}$.\n",
    "Note that we can no longer go from any node to any other node following a directed path; there is no possible path from a node $\\mathbf{i}$ to a node $\\mathbf{j}$ if $\\mathcal{c}(\\mathbf{i}) \\lt \\mathcal{c}(\\mathbf{j})$."
   ]
  },
  {
   "cell_type": "markdown",
   "id": "85306a0b-834f-4f93-a66e-2ac151f68b77",
   "metadata": {},
   "source": [
    "### Sinks and solutions\n",
    "\n",
    "These $\\Omega$ graphs will have sinks; nodes with only incident edges.\n",
    "This means that, starting from any node,\n",
    "and iteratively building a path by randomly choosing edges with source in the current node,\n",
    "we will end up in a sink.\n",
    "\n",
    "So we need compass functions that produce $\\Omega$ graphs with sinks in one to one correpondence with our solutions.\n",
    "Then, to get to the solution(s), starting from any node,\n",
    "we just need to build a path, edge by edge, until we reach such a sink."
   ]
  },
  {
   "cell_type": "markdown",
   "id": "199f3956-d0f3-43b0-8e0d-e020470c5771",
   "metadata": {},
   "source": [
    "Note that at this point we are talking about more general problems than sorting.\n",
    "We can have compass functions that produce sinks that correspond with monotonicity,\n",
    "to solve ISPs,\n",
    "or that correspond to other kinds of structure to solve other kinds of problem."
   ]
  },
  {
   "cell_type": "markdown",
   "id": "bf009d27-53e8-4378-aeb5-50f0538a61a9",
   "metadata": {},
   "source": [
    "### Compass functions for the SP: monotonicity compass\n",
    "\n",
    "Focusing now on the SP, lets see what compass functions can we come up with\n",
    "that will produce a sink(s) corresponding to the monotonic index."
   ]
  },
  {
   "cell_type": "markdown",
   "id": "7f8ba10c-7606-4799-aba1-7b4c47266214",
   "metadata": {},
   "source": [
    "Note that we can take the ordering provided by an index $\\mathbf{i}$ on $\\mathbf{S}$\n",
    "as a vector in the $\\mathbb{Q}^\\mathbf{c}$ space,\n",
    "and we can also take $[1..\\mathbf{c}]$ as a vector in that space.\n",
    "Then, one compass function we can clearly use,\n",
    "is the distance (or better, to remain within $\\mathbb{Q}$, the quadrance)\n",
    "between both vectors.\n",
    "Let's call this compass function $\\mathcal{m} \\in \\mathcal{C}$.\n",
    "Since $[1..\\mathbf{c}]$ is isomorphic (as totally ordered structures) to the solution,\n",
    "the distance between both vectors will be minimal when the index $\\mathbf{i}$ corresponds to the solution.\n",
    "\n",
    "Given an index $\\mathbf{i} \\in \\mathbf{I}_\\mathbf{S}$:\n",
    "\n",
    "$$\n",
    "\\mathcal{m}(\\mathbf{i}) \\mapsto \\sum_{n = 1}^\\mathbf{c} (\\mathbf{i}(n) - n)^2\n",
    "$$"
   ]
  },
  {
   "cell_type": "markdown",
   "id": "b8a7a06f-ea22-447a-9799-14cc6e85beae",
   "metadata": {},
   "source": [
    "We can now use $\\mathcal{m}$ to look for a solution to an ISP, step by step:\n",
    "for each step, choose the generator that most decreases $\\mathcal{m}$,\n",
    "(or, alternatively, choose any generator that decreases $\\mathcal{m}$),\n",
    "and keep doing so until reaching a sink, which will correspond to the solution."
   ]
  },
  {
   "cell_type": "markdown",
   "id": "d3a85f07-5acb-4a0d-a559-44e8f526cd51",
   "metadata": {},
   "source": [
    "Obviously, we might have a problem if our compass function determines more than one sink,\n",
    "where some of them do not correspond to solutions."
   ]
  },
  {
   "cell_type": "markdown",
   "id": "16b0a0d3-97f0-4f60-bb89-0ffad588adfb",
   "metadata": {},
   "source": [
    "Conjecture: the $\\Omega$ graph of any ISP\n",
    "given by a rollable set of generators and the $\\mathcal{m}$ compass function\n",
    "has a single sink, corresponding to the solution.\n",
    "\n",
    "The many sorting algorithms available all essentially correspond to choosing different sets of generators\n",
    "and different ways of using $\\mathcal{m}$ to choose\n",
    "the next generator to apply when constructing a path to the solution.\n",
    "Note that considering which of 2 numbers $\\mathcal{a}$ and $\\mathcal{b}$ is greater\n",
    "is essentially the same as considering which of\n",
    "$(\\mathcal{a} - 1)^2 + (\\mathcal{b} - 2)^2$ and  $(\\mathcal{b} - 1)^2 + (\\mathcal{a} - 2)^2$\n",
    "is greater.\n",
    "\n",
    "[Here](Python%20-%20SP%20monotonic%20compass.ipynb) can be found a Python demonstration\n",
    "of a generic sorting algorithm that will use this compass function $\\mathcal{m}$ and any set of generators.\n",
    "It is easy to check that, for the rollable sets of generators provided [here](generators.py),\n",
    "the conjecture seems to hold, i.e., the algorithm always finds the solution."
   ]
  },
  {
   "cell_type": "markdown",
   "id": "866a15f1-fda7-42e6-8a6e-76500fa92f1b",
   "metadata": {},
   "source": [
    "### Compass functions for the SP: circuit distance compass\n",
    "\n",
    "Let's now choose a different compass function $\\mathcal{d} \\in \\mathcal{C}$. Given an index $\\mathbf{i} \\in \\mathbf{I}_\\mathbf{S}$:\n",
    "\n",
    "$$\n",
    "\\mathcal{d}(\\mathbf{i}) \\mapsto \\sum_{n = 2}^\\mathbf{c} (\\mathbf{i}(n) - \\mathbf{i}(n - 1))^2\n",
    "$$\n",
    "\n",
    "As is easy to check, this compass function would provide an $\\Omega$ graph with multiple sinks,\n",
    "most of which do not correspond to the solution.\n",
    "\n",
    "[Here](Python%20-%20circuit%20distance%20compass.ipynb) can be found a Python demonstration\n",
    "of a generic algorithm that will use this compass function $\\mathcal{d}$ and any set of generators.\n",
    "It is not a sorting algorithm, since it will usually hit sinks that do not correspond to the solution.\n",
    "\n",
    "Note now that this compass function is basically\n",
    "the function that would tell us the square of the length of a circuit of the cities\n",
    "in an instance of the TSP if we assume that the cities are laid out in a single line,\n",
    "and that the elements of $\\mathbf{S}$ provide the location of each city in that line.\n",
    "\n",
    "This gives us entrance to consider the TSP."
   ]
  },
  {
   "cell_type": "markdown",
   "id": "89245e1d-86ed-4612-b40a-1e25d12686da",
   "metadata": {},
   "source": [
    "## The TSP\n",
    "\n",
    "We can take the TSP as an SP in which, instead of starting from a subset $\\mathbf{S} \\subset \\mathbb{Q}$,\n",
    "we start from a subset $\\mathbf{S} \\subset \\mathbb{Q}^2$.\n",
    "So each element of $\\mathbf{S}$ is a rational point on the euclidean plane\n",
    "(this could be easily generalizable to any other 2d metric space)."
   ]
  },
  {
   "cell_type": "markdown",
   "id": "9cfcf5d3-b55c-4313-a20e-5c30ea75ac0b",
   "metadata": {},
   "source": [
    "In this case, we do not have a natural order relation for $\\mathbf{S}$;\n",
    "to construct a compass function like the provided $\\mathcal{m}$ for the SP,\n",
    "i.e., to be able to measure the distance to a vector isomorphic to the solution\n",
    "(isomorphic wrt whatever structure is needed;\n",
    "in the case of the SP, isomorphic would just mean monotonic),\n",
    "we would need a very precise ordering of 2d points, i.e.,\n",
    "we'd need the solution.\n",
    "Note that whereas in the SP all solutions to all instances of the problem are isomorphic to the same structure,\n",
    "i.e. $[1..\\mathbf{c}]$,\n",
    "in the TSP the solution to each instance of the problem is isomorphic to a very specific sequence of points."
   ]
  },
  {
   "cell_type": "markdown",
   "id": "651096f7",
   "metadata": {},
   "source": [
    "The only 2d distribution of points that might be distinguished\n",
    "in the same sense that a monotonic 1d sequence is,\n",
    "would be one in which the points are arranged in a circle and have all\n",
    "the same distance to the 2 nearest points."
   ]
  },
  {
   "cell_type": "markdown",
   "id": "13d7eb0f",
   "metadata": {},
   "source": [
    "But if we try to use the distance to this distribution as an $\\mathcal{m}$ compass function,\n",
    "we soon see that it does not work: it favors star shaped circuits over the solutions."
   ]
  },
  {
   "cell_type": "markdown",
   "id": "db3cde92",
   "metadata": {},
   "source": [
    "[Here](Python%20-%20TSP%20circle.ipynb) there is some Python code that demonstrates this fact."
   ]
  },
  {
   "cell_type": "markdown",
   "id": "6cc02020-8cb4-486c-9119-fd7540c4fde1",
   "metadata": {},
   "source": [
    "So in the TSP we are in principle restricted to use something like the $\\mathcal{d}$ compass function,\n",
    "i.e., a measure of the length of the circuit.\n",
    "And, again, it is easy to see that such a compass function,\n",
    "in conjunction with sensibly small sets of generators,\n",
    "results in an $\\Omega$ graph\n",
    "with many sinks, most of which do not correspond to the solution."
   ]
  },
  {
   "cell_type": "markdown",
   "id": "0864da25",
   "metadata": {},
   "source": [
    "For TSP instances, the index functions will return pairs of numbers, i.e., elements of $\\mathbb{Q}^2$.\n",
    "Let's assume that, if $\\mathbf{i}$ is an index on $\\mathbf{S}$,\n",
    "$\\mathbf{i}_1(n)$ denotes the first component of the pair,\n",
    "and $\\mathbf{i}_2(n)$ the second. Then $\\mathcal{d}$ is given by:\n",
    "\n",
    "$$\n",
    "\\mathcal{d}(\\mathbf{i}) \\mapsto \\sum_{n = 2}^\\mathbf{c} \\left( \\left(\\mathbf{i}_1(n) - \\mathbf{i}_1(n - 1) \\right)^2 + \\left(\\mathbf{i}_2(n) - \\mathbf{i}_2(n - 1) \\right)^2 \\right)\n",
    "$$\n",
    "\n",
    "(Here we are somewhat simplifying the function, to forget the distance between the last and first point;\n",
    "simply to avoid muddying the formula with modulos)."
   ]
  },
  {
   "cell_type": "markdown",
   "id": "3dcdc92f-e223-4f4d-8458-9ffb754f1ed4",
   "metadata": {},
   "source": [
    "So, now, the question becomes:\n",
    "Can we find a different compass function, let's call it $\\mathcal{h}$,\n",
    "that provides an $\\Omega$ graph with only the sinks\n",
    "that correspond to the solutions?\n",
    "We'd be ok if in this graph there were orphaned nodes,\n",
    "with no edges;\n",
    "if the instance of the problem starts from a node, an index,\n",
    "that is an orphan, we can always shuffle the index,\n",
    "until we obtain a non orphan node."
   ]
  },
  {
   "cell_type": "markdown",
   "id": "e833885d-d171-4977-9fd4-38c1104fc66d",
   "metadata": {},
   "source": [
    "If such a compass function $\\mathcal{h}$ exists\n",
    "it should be possible to somehow distinguish,\n",
    "among all the sinks provided by the $\\mathcal{d}$ compass function,\n",
    "the one that corresponds to the solution from all the others,\n",
    "just using local data, i.e.,\n",
    "data which is local to each node in the graph.\n",
    "This is because the $\\mathcal{h}$ compass function should be able\n",
    "to extract a quantity from the data characterizing each node,\n",
    "(quantity that should be different from just the circuit length,)\n",
    "that should be extreme in the nodes that provide a path to the solution sink.\n",
    "Therefore, the solution sink itself should be extreme in this quantity,\n",
    "in contrast to the non-solution sinks,\n",
    "and so, the data characterizing the sinks\n",
    "should allow us to distinguish between both types of sinks,\n",
    "solutions and non-solutions.\n",
    "\n",
    "Now, what is this data that characterizes the nodes?"
   ]
  },
  {
   "cell_type": "markdown",
   "id": "c651e031",
   "metadata": {},
   "source": [
    "In the SP, we were characterizing nodes and edges of the graphs just by permutations of the $\\mathbf{S}$ sets;\n",
    "that was all the data needed to restrict the graphs and navigate them.\n",
    "In the TSP, we need the data in a different way:\n",
    "we need to extract the distances between the different cities."
   ]
  },
  {
   "cell_type": "markdown",
   "id": "a162270f",
   "metadata": {},
   "source": [
    "One way in which we can provide these data is by asociating each node $\\mathbf{i}$ with a distances matrix\n",
    "$\\mathcal{M}_{\\mathbf{j},\\mathbf{k}} = |\\mathbf{i}(\\mathbf{j}) - \\mathbf{i}(\\mathbf{k})|$\n",
    "in which the cities are ordered according to the $\\mathbf{i}$ index,\n",
    "and by asociating each edge with a permutation matrix that corresponds to the permutation of that edge.\n",
    "Then, to go from one node to another, following some edge,\n",
    "we just have to conjugate the distances matrix of the source node $\\mathcal{M}$\n",
    "with the permutation matrix of the edge $\\mathcal{G}$,\n",
    "to obtain the distances matrix of the destination node $\\mathcal{G} \\mathcal{M} \\mathcal{G}^T = \\mathcal{N}$.\n",
    "The $\\mathcal{d}$ compass function in this case would be given by the tensor product\n",
    "between the distances matrix of the node and the roller permutation."
   ]
  },
  {
   "cell_type": "markdown",
   "id": "0cbf4db1",
   "metadata": {},
   "source": [
    "[Here](Python%20-%20TSP%20circuit%20distance%20compass.ipynb) is some Python code\n",
    "that demonstrates the ideas in the above discussion,\n",
    "and shows how we can use the $\\mathcal{d}$ function and arbitrary rollable sets of generators\n",
    "to navigate the graph of a random TSP instance and find its sinks."
   ]
  },
  {
   "cell_type": "markdown",
   "id": "a843e813",
   "metadata": {},
   "source": [
    "So, the local data for some node in these graphs would be distances matrices,\n",
    "either just the distances matrix of the given node,\n",
    "or in cojunction with the distances matrices of the nodes just one edge away from it\n",
    "(i.e., in its immediate neighbourhood in the $\\Omega$ graphs)."
   ]
  },
  {
   "cell_type": "markdown",
   "id": "9ba67939",
   "metadata": {},
   "source": [
    "### Machine learning of TSP solutions\n",
    "\n",
    "The question now is, can we use this local data to distinguish solution sinks from non solution sinks in $\\Omega$ graphs for the TSP? And it seems we can, to a certain extent."
   ]
  },
  {
   "cell_type": "markdown",
   "id": "ef844140",
   "metadata": {},
   "source": [
    "To train the ML models, we generate random instances of the TSP,\n",
    "and we use the $\\mathcal{d}$ compass functions\n",
    "and appropriate generator sets\n",
    "to find the sinks for each of them.\n",
    "We assume that the one with the shortest circuit length is the solution.\n",
    "Each sink corresponds to a distances matrix,\n",
    "and has a number of incident edges connecting it to other nodes / distances matrices.\n",
    "\n",
    "The data we obtain from the distances matrix associated to each sink are,\n",
    "for each row (i.e., city) the circuit distance as if the row were a 1d sorting problem.\n",
    "This is equivalent to the circuit length,\n",
    "but expressed in $\\mathbf{c}$ dimensions;\n",
    "and we also add to the data for the node\n",
    "the differences between its individual data\n",
    "and the individual data of the adjacent nodes.\n",
    "\n",
    "[Here](Python%20-%20TSP%20data.ipynb) is a demonstration of the Python code used to obtain this data.\n",
    "\n",
    "And [here](Python%20-%20TSP%20model.ipynb) is a demonstration of the Python code\n",
    "used to train the models with the data obtained,\n",
    "and to test the trained models."
   ]
  },
  {
   "cell_type": "markdown",
   "id": "fbd7c710",
   "metadata": {},
   "source": [
    "### Results\n",
    "\n",
    "For instances of the TSP with 20 cities, and using aproximately 8.000 datapoints\n",
    "(half of them correct solutions, and the other half non-solution sinks)\n",
    "we obtain confusion matrices like\n",
    "$\\left[\\begin{smallmatrix}61 & 39 \\\\\\\\ 26 & 74\\end{smallmatrix}\\right]$\n",
    "\n",
    "And for 31 cities, using the same aproximate numbers of data, we obtain things like\n",
    "$\\left[\\begin{smallmatrix}53 & 47 \\\\\\\\ 34 & 66\\end{smallmatrix}\\right]$"
   ]
  },
  {
   "cell_type": "markdown",
   "id": "4e496ee1",
   "metadata": {},
   "source": [
    "## next steps"
   ]
  },
  {
   "cell_type": "markdown",
   "id": "7e21b2e5",
   "metadata": {},
   "source": [
    "### Computing power\n",
    "\n",
    "We need more computing power than my humble laptop\n",
    "to produce more data,\n",
    "both for the numbers of cities that we have already studied above,\n",
    "and for higher numbers."
   ]
  },
  {
   "cell_type": "markdown",
   "id": "98ece331",
   "metadata": {},
   "source": [
    "### Shaking it\n",
    "\n",
    "Given an instance of the TSP, i.e., a set $\\mathbf{S} \\subset \\mathbb{Q}^2$ with $\\mathbf{c} = |\\mathbf{S}|$ and an index $\\mathbf{i}$ on it,\n",
    "we can obtain its distances matrix\n",
    "$\\mathcal{M}_{\\mathbf{j},\\mathbf{k}} = |\\mathbf{i}(\\mathbf{j}) - \\mathbf{i}(\\mathbf{k})|$.\n",
    "And from this matrix we can obtain a 4d array of boolean values,\n",
    "$\\mathcal{B}$, with shape $\\mathbf{c}^4$,\n",
    "if which each entry $\\mathcal{B}_{\\mathbf{i},\\mathbf{j},\\mathbf{k},\\mathbf{m}}$ is 1 in case\n",
    "$\\mathcal{M}_{\\mathbf{i},\\mathbf{j}} < \\mathcal{M}_{\\mathbf{k},\\mathbf{m}}$\n",
    "and 0 otherwise."
   ]
  },
  {
   "cell_type": "markdown",
   "id": "4304a840",
   "metadata": {},
   "source": [
    "This allows us to establish an equivalence relation between instances of the TSP,\n",
    "so that 2 instances are in the same class when they determine the same $\\mathcal{B}$ matrix.\n",
    "It is quite clear that any 2 instances of the TSP that belong to the same class,\n",
    "will be equivalent wrt any algorithm we can devise to sort it according to any criterion;\n",
    "effectively, this means that there are a finite number of TSP instances for each cardinality:\n",
    "the number of different $\\mathbf{c}^4$ arrays with entries in $\\{0, 1\\}$\n",
    "that are consistent with a 2d distribution of points."
   ]
  },
  {
   "cell_type": "markdown",
   "id": "55f5dfab",
   "metadata": {},
   "source": [
    "Now, let's note that if we take an instance of the TSP,\n",
    "and slightly move one of its points (cities),\n",
    "we will obtain another instance of the TSP,\n",
    "which can be in the same class as the original,\n",
    "or in another.\n",
    "So there will be instances that are very near (as 2d distribiution of points)\n",
    "to the instances of a different class,\n",
    "and instances that sit squarely in the middle of their class,\n",
    "and you need to displace any point quite a long way to get to another class.\n",
    "\n",
    "The solution to these last instances should be more easily distinguishable\n",
    "than the solutions to instances on the edge of their classes.\n",
    "This is a conjecture.\n",
    "\n",
    "So if the conjecture is correct,\n",
    "we should be able to \"shake\" the instances,\n",
    "i.e., randomly move its points without changing its class,\n",
    "to obtain instances in the middle of their classes,\n",
    "and with a more distinguishable solution."
   ]
  },
  {
   "cell_type": "markdown",
   "id": "2b8dff60",
   "metadata": {},
   "source": [
    "Each of these classes should determine their own $\\Omega$ graphs, however,\n",
    "so in principle they should be equally navigable, so this is dubious.\n",
    "And quite computationally costly..."
   ]
  },
  {
   "cell_type": "markdown",
   "id": "ce436953",
   "metadata": {},
   "source": [
    "But it would be interesting to calculate the different numbers of sinks for each class and generator set,\n",
    "and with the $\\mathcal{d}$ compass, at least for small numbers of cities."
   ]
  },
  {
   "cell_type": "code",
   "execution_count": null,
   "id": "bc6d1c49",
   "metadata": {},
   "outputs": [],
   "source": []
  }
 ],
 "metadata": {
  "kernelspec": {
   "display_name": "Python 3 (ipykernel)",
   "language": "python",
   "name": "python3"
  },
  "language_info": {
   "codemirror_mode": {
    "name": "ipython",
    "version": 3
   },
   "file_extension": ".py",
   "mimetype": "text/x-python",
   "name": "python",
   "nbconvert_exporter": "python",
   "pygments_lexer": "ipython3",
   "version": "3.9.5"
  }
 },
 "nbformat": 4,
 "nbformat_minor": 5
}
