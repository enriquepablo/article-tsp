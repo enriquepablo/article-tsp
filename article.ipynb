{
 "cells": [
  {
   "cell_type": "markdown",
   "id": "c7ae40e9",
   "metadata": {},
   "source": [
    "# Sorting the travelling salesman problem"
   ]
  },
  {
   "cell_type": "markdown",
   "id": "f4e416ce",
   "metadata": {},
   "source": [
    "## Abstract"
   ]
  },
  {
   "cell_type": "markdown",
   "id": "546b90fa",
   "metadata": {},
   "source": [
    "We look here at 2 related problems:\n",
    "The travelling salesman problem (TSP),\n",
    "and the sorting problem (SP) - understanding the SP\n",
    "as the problem that is solved by sorting algorithms.\n",
    "We only consider the euclidean TSP, where cities are points in the plane.\n",
    "Both problems have very similar solution spaces,\n",
    "and very similar ways of navigating these solution spaces.\n",
    "Basically, the solution spaces are, in both cases,\n",
    "the set of permutations of some given set of objects;\n",
    "and we navigate them using a measure\n",
    "on a generating set for the permutations,\n",
    "which we try to minimize.\n",
    "However, while this navigation results in solving the SP instances,\n",
    "it only provides heuristics to approach the solution\n",
    "in the case of instances of the TSP.\n",
    "We try to explain this difference\n",
    "examining the topology of these solution spaces."
   ]
  },
  {
   "cell_type": "markdown",
   "id": "e9920f8e",
   "metadata": {},
   "source": [
    "## Sets and orderings"
   ]
  },
  {
   "cell_type": "markdown",
   "id": "79e38d76",
   "metadata": {},
   "source": [
    "For any instance of both the TSP and the SP,\n",
    "the solution space is the set $\\mathcal{P}$ of orderings of some set $\\mathbf{A}$ of objects, understanding an *ordering* as a bijective function $\\mathcal{p}: \\mathbf{I} \\rightarrow \\mathbf{A}$,\n",
    "with $|\\mathbf{A}| = n$ and $\\mathbf{I} = [1..n] \\subset \\mathbb{N}$ (so $|\\mathcal{P}| = n!$).\n",
    "In the case of the SP, the objects are (or can be trivially mapped to) real numbers,\n",
    "and for each instance of the problem we have a finite subset $\\mathbf{A} \\subset \\mathbb{R}$.\n",
    "In the case of the TSP they are points in the plane\n",
    "(here, for simplicity, we will take the plane to be the complex plane),\n",
    "so for each instance of the problem we have a finite subset $\\mathbf{A} \\subset \\mathbb{C}$."
   ]
  },
  {
   "cell_type": "markdown",
   "id": "f9a90cb7",
   "metadata": {},
   "source": [
    "As is customary when formulating these problems,\n",
    "we start with an initial arbitrary ordering $\\mathcal{o}$ on these sets.\n",
    "In the SP, we are generally provided with a list of numbers to sort,\n",
    "which is obviously a set of numbers and an initial ordering for them.\n",
    "In the TSP, the usual formulation also includes an initial ordering\n",
    "(or labelling of the cities with integers;\n",
    "for a fairly up to date review on the TSP, see [1])"
   ]
  },
  {
   "cell_type": "markdown",
   "id": "c48cf655",
   "metadata": {},
   "source": [
    "Now we consider the symmetric group $\\mathcal{S}_n$ acting on $\\mathbf{I}$ in the usual way,\n",
    "which allows us to obtain any possible ordering $\\mathcal{p} \\in \\mathcal{P}$ of the elements of $\\mathbf{A}$:\n",
    "\n",
    "$$\n",
    "\\forall \\mathcal{p} \\in \\mathcal{P} : \\exists \\sigma \\in \\mathcal{S}_n : \\mathcal{o} \\circ \\sigma = \\mathcal{p}\n",
    "$$"
   ]
  },
  {
   "cell_type": "markdown",
   "id": "1386659a",
   "metadata": {},
   "source": [
    "[Here](Python-1.ipynb) we can find some Python code that provides an implementation of these concepts."
   ]
  },
  {
   "cell_type": "markdown",
   "id": "e1a88ed4",
   "metadata": {},
   "source": [
    "## Measures"
   ]
  },
  {
   "cell_type": "markdown",
   "id": "c0fc24c1",
   "metadata": {},
   "source": [
    "Using all the information above, we can provide a *measure* - defined as a function $\\mathcal{S}_n \\rightarrow \\mathbb{R}$ - to both the SP and the TSP."
   ]
  },
  {
   "cell_type": "markdown",
   "id": "475ea8b5",
   "metadata": {},
   "source": [
    "In the case of the SP we will call this measure $\\phi$, defined, for $\\sigma \\in \\mathcal{S}_n$, by:\n",
    "\n",
    "$$\n",
    "\\sigma \\mapsto \\sum_{\\mathbf{i} = 1}^{n} ((\\mathcal{o} \\circ \\sigma)(\\mathbf{i}) - \\mathbf{i})^2\n",
    "$$"
   ]
  },
  {
   "cell_type": "markdown",
   "id": "bfd41847",
   "metadata": {},
   "source": [
    "Note that when $\\sigma$ is a transposition,\n",
    "comparing the value of $\\phi(\\sigma)$ and of $\\phi(\\mathbf{id}_{\\mathcal{S}_n})$\n",
    "is the same as comparing the values that are being transposed,\n",
    "and so to performing the usual comparison used in sorting algorithms (i.e., using $<_{\\mathbb{R}}$)."
   ]
  },
  {
   "cell_type": "markdown",
   "id": "1277e447",
   "metadata": {},
   "source": [
    "In the case of the TSP we will call this measure $\\psi$, defined for $\\sigma \\in \\mathcal{S}_n$ by:\n",
    "\n",
    "$$\n",
    "\\sigma \\mapsto \\sum_{\\mathbf{i} = 1}^{n - 1} |(\\mathcal{o} \\circ \\sigma)(\\mathbf{i}) - (\\mathcal{o} \\circ \\sigma)(\\mathbf{i} + 1)|^2\n",
    "$$"
   ]
  },
  {
   "cell_type": "markdown",
   "id": "e3b94980",
   "metadata": {},
   "source": [
    "In this case, note that $\\psi$ just provides the length of the tour given by $\\mathcal{p} = \\mathcal{o} \\circ \\sigma$ (though, to keep the expressions simple, we do not require here that the salesman ends up in the same city they started from, only that they visit all cities)."
   ]
  },
  {
   "cell_type": "markdown",
   "id": "52fbabb1",
   "metadata": {},
   "source": [
    "[Here](Python-2.ipynb) We can find a Python implementation of these functions (note that in this implementation, the salesman ends up in the starting city)."
   ]
  },
  {
   "cell_type": "markdown",
   "id": "9f51fc42",
   "metadata": {},
   "source": [
    "## Brute force"
   ]
  },
  {
   "cell_type": "markdown",
   "id": "ffaf1b1b",
   "metadata": {},
   "source": [
    "All the above is enough to provide an algorithm to solve both problems, i.e., find the $\\sigma \\in \\mathcal{S}_n$ that minimizes the quantity $\\phi(\\sigma)$ (or $\\psi(\\sigma)$)."
   ]
  },
  {
   "cell_type": "markdown",
   "id": "17d82d10",
   "metadata": {},
   "source": [
    "This algorithm forces us to calculate the measure for every element in $\\mathcal{S}_n$,\n",
    "which is intractable for relatively small $n$. It is what is usually called the naïve or brute force algorithm."
   ]
  },
  {
   "cell_type": "markdown",
   "id": "069bf901",
   "metadata": {},
   "source": [
    "[Here](Python-3.ipynb) we can find a Python demo of this algorithm."
   ]
  },
  {
   "cell_type": "markdown",
   "id": "6a58ded1",
   "metadata": {},
   "source": [
    "## A smarter algorithm"
   ]
  },
  {
   "cell_type": "markdown",
   "id": "b62a8e3a",
   "metadata": {},
   "source": [
    "To reduce the complexity of the algorithm,\n",
    "the natural strategy is to, instead of considering every element in $\\mathcal{S}_n$,\n",
    "consider only the elements in a generating set $\\mathcal{G} \\subset \\mathcal{S}_n$:\n",
    "if we assume that  $\\tau \\in \\mathcal{S}_n$ provides the solution to some instance of either problem,\n",
    "we want to find a sequence $(\\mathcal{g}_1, \\mathcal{g}_2 ... \\mathcal{g}_k)$ of elements\n",
    "of $\\mathcal{G}$ such that $\\mathcal{g}_1 \\cdot \\mathcal{g}_2 ... \\cdot \\mathcal{g}_k = \\tau$."
   ]
  },
  {
   "cell_type": "markdown",
   "id": "47d8a907",
   "metadata": {},
   "source": [
    "Obviously we do not want to consider every possible such sequence; that would not be even naïve, it would be stupid.\n",
    "\n",
    "What we want is to\n",
    "check the measure on all the $\\mathcal{g}_i \\in \\mathcal{G}$,\n",
    "choose one of those elements $\\mathcal{g}_1$ that decreases the measure wrt $\\mathbf{id}_{\\mathcal{S}_n}$,\n",
    "and then repeat the procedure with $\\mathcal{g}_1 \\cdot \\mathcal{g}_i$,\n",
    "again for all the $\\mathcal{g}_i \\in \\mathcal{G}$, to choose another $\\mathcal{g}_2$\n",
    "(not necessarily distict from $\\mathcal{g}_1$),\n",
    "accumulating a sequence of elements of $\\mathcal{g}_1, \\mathcal{g}_2 ... \\in \\mathcal{G}$ until there is no more\n",
    "choice that would decrease the measure.\n",
    "This is what we will call the smart algorithm."
   ]
  },
  {
   "cell_type": "markdown",
   "id": "31dba936",
   "metadata": {},
   "source": [
    "We can assume as a first aproximation that the cardinality of the generating sets\n",
    "will correspond directly with the complexity of the resulting algorithms.\n",
    "In reality the correspondence will not be that simple,\n",
    "as the number of steps needed to reach the solution\n",
    "(the number of $\\mathcal{g}_i$ in the solution)\n",
    "will also be a factor in the complexity,\n",
    "and it will decrease as the cardinality of $\\mathcal{G}$ increases.\n",
    "But not by much, we are now in the zone of sublinear effects."
   ]
  },
  {
   "cell_type": "markdown",
   "id": "e49f6688",
   "metadata": {},
   "source": [
    "[Here](Python-4.ipynb) we can find a Python implementation of this algorithm."
   ]
  },
  {
   "cell_type": "markdown",
   "id": "a9cf777f",
   "metadata": {},
   "source": [
    "## Generating sets"
   ]
  },
  {
   "cell_type": "markdown",
   "id": "6841860c",
   "metadata": {},
   "source": [
    "The smallest generating set for $\\mathcal{S}_n$ is $\\{(12), (123...n)\\}$; but this will not provide solutions for any problem using the smart algorithm above. "
   ]
  },
  {
   "cell_type": "markdown",
   "id": "89c22915",
   "metadata": {},
   "source": [
    "The smallest generating set that will provide solutions for the SP is the set of all contiguous transpositions $\\mathcal{G} = \\{(12), (23), ... (n1)\\}$, so with $|\\mathcal{G}| = n$.\n",
    "And almost (for an exception, see below regarding 2-opt) any other more complex generating set (that does not distinguish any positions, as the smalles set in the previous paragraph does for 1 and 2) will also provide solutions; for example the set of all transpositions."
   ]
  },
  {
   "cell_type": "markdown",
   "id": "309faa2f",
   "metadata": {},
   "source": [
    "If we look closely, and disregard a few clever optimizations, this algorithm, choosing appropriate generating sets, corresponds quite well with the usual sorting algorithms. Check the wikipedia [2] for a few of them."
   ]
  },
  {
   "cell_type": "markdown",
   "id": "649f10e7",
   "metadata": {},
   "source": [
    "Additionally, it is not difficult to check that this algorithm, with the choices of generating sets\n",
    "that do solve all instances of the SP, will not solve instances of the TSP,\n",
    "but will only provide heuristic approaches.\n",
    "It can also easily be seen that the heuristics commonly used\n",
    "to approach instances of the TSP (k-opt and derivatives, see [1])\n",
    "correspond well with this algorithm."
   ]
  },
  {
   "cell_type": "markdown",
   "id": "c5d0d7de",
   "metadata": {},
   "source": [
    "The k-opt algorithm essentially consists on repeatedly breaking the tour (it is originally defined for the TSP)\n",
    "in $k$ places and rearranging the resulting pieces.\n",
    "This procedure corresponds to generating sets $\\mathcal{G}$ with cardinality $n \\times (n - 1) \\times ... \\times (n - k + 1)$ (and thus to algorithms with such complexity)."
   ]
  },
  {
   "cell_type": "markdown",
   "id": "b8b2272f",
   "metadata": {},
   "source": [
    "It is also interesting to note that a 2-opt algorithm is not in general enough to solve any instance of the SP."
   ]
  },
  {
   "cell_type": "markdown",
   "id": "f5715808",
   "metadata": {},
   "source": [
    "[Here](Python-5.ipynb) we can find Python functions to construct different generating sets, and code to demonstrate the ideas in this section."
   ]
  },
  {
   "cell_type": "markdown",
   "id": "c913f5fe",
   "metadata": {},
   "source": [
    "## Topologies"
   ]
  },
  {
   "cell_type": "markdown",
   "id": "b06381ab",
   "metadata": {},
   "source": [
    "It seems to me that the language of topology is the one that better captures the information\n",
    "we have available to discriminate between the algorithms that can solve instances of these problems\n",
    "and those that can't. For all the conceptualization of finite topological spaces I follow here\n",
    "the work of J.P. May, see [3] or in general all the stuff in [4]."
   ]
  },
  {
   "cell_type": "markdown",
   "id": "9bfcb1e3",
   "metadata": {},
   "source": [
    "To lay out all this information topologically, we 1st turn our formulations of the instances of the problems into graphs."
   ]
  },
  {
   "cell_type": "markdown",
   "id": "5d814332",
   "metadata": {},
   "source": [
    "First we use the group theory information to define a directed graph $\\mathfrak{G}$,\n",
    "in which the nodes are the elements in $\\mathcal{P}$, and the edges are (compositions with) the elements in $\\mathcal{G}$.\n",
    "This is a regular directed graph (all nodes have the same number of in and out edges),\n",
    "which is connected due to the fact that $\\mathcal{G}$ is a generating set for $\\mathcal{S}_n$.\n",
    "So $\\mathcal{g} \\in \\mathcal{G}$ would be an edge out of any $\\mathcal{p} \\in \\mathcal{P}$\n",
    "and into $(\\mathcal{p} \\circ \\mathcal{g}) \\in \\mathcal{P}$."
   ]
  },
  {
   "cell_type": "markdown",
   "id": "7b8d1428",
   "metadata": {},
   "source": [
    "Now we use our measure functions to define a subgraph $\\mathfrak{M} < \\mathfrak{G}$ in which,\n",
    "for each node $\\mathcal{p} \\in \\mathcal{P}$\n",
    "we assume $\\mathcal{p}$ to be the initial ordering,\n",
    "and we leave at most one outgoing edge,\n",
    "such that it has to end in a node with a smaller measure than $\\mathcal{p}$,\n",
    "and no other outgoing edge from $\\mathcal{p}$ in $\\mathfrak{G}$ can end in a node with smaller measure."
   ]
  },
  {
   "cell_type": "markdown",
   "id": "4b236ba0",
   "metadata": {},
   "source": [
    "Clearly $\\mathfrak{M}$ is no longer regular nor necessarily connected."
   ]
  },
  {
   "cell_type": "markdown",
   "id": "6d637601",
   "metadata": {},
   "source": [
    "Now we define 2 different topologies on $\\mathfrak{M}$."
   ]
  },
  {
   "cell_type": "markdown",
   "id": "5fa9d44f",
   "metadata": {},
   "source": [
    "For the 1st topology $\\mathcal{T}_\\mathcal{G}$ we consider that having $\\mathcal{p}, \\mathcal{q} \\in \\mathcal{P}$,\n",
    "$\\mathcal{p} < \\mathcal{q}$ iff it is possible to go from $\\mathcal{q}$ to $\\mathcal{p}$\n",
    "traversing any number of edges in the forward direction;\n",
    "and we use the poset structure given by that relation to define the topology."
   ]
  },
  {
   "cell_type": "markdown",
   "id": "07f96ad0",
   "metadata": {},
   "source": [
    "The 2nd topology $\\mathcal{T}_\\mathbb{R}$ on $\\mathcal{P}$\n",
    "is given by $\\phi$ or $\\psi$ as embeddings of $\\mathcal{P}$ into $\\mathbb{R}$,\n",
    "so we can inherit the standard topology from $\\mathbb{R}$.\n",
    "In this case the topology would correspond to a total order."
   ]
  },
  {
   "cell_type": "markdown",
   "id": "fe427f19",
   "metadata": {},
   "source": [
    "So given this, we can define a curve in $\\mathcal{P}$ as a map $[1..k] \\rightarrow \\mathcal{P}$;\n",
    "and use the defined topologies to distinguish continuous curves,\n",
    "as monotonic curves wrt the order associated to the topology.\n",
    "Of course a curve that is continuous in one topology need not be so in the other."
   ]
  },
  {
   "cell_type": "markdown",
   "id": "21c88ab5",
   "metadata": {},
   "source": [
    "Now, we can use $\\mathcal{T}_\\mathcal{G}$ to build continuous curves without\n",
    "explicitly *constructing* the full space, in the sense of calculating the measure for all points in $\\mathcal{P}$.\n",
    "Building curves this way corresponds to using our smart algorithm."
   ]
  },
  {
   "cell_type": "markdown",
   "id": "59e7824d",
   "metadata": {},
   "source": [
    "But we cannot use $\\mathcal{T}_\\mathbb{R}$ to build continuous curves without\n",
    "explicitly constructing the full space.\n",
    "Building a continuous curve in $\\mathcal{T}_\\mathbb{R}$ would correspond\n",
    "to using the naïve algorithm to find the solution."
   ]
  },
  {
   "cell_type": "markdown",
   "id": "5246394b",
   "metadata": {},
   "source": [
    "The issue here is that in some cases, the continuous curves in $\\mathcal{T}_\\mathcal{G}$\n",
    "are enough to find the topologically distinguished points in $\\mathcal{T}_\\mathbb{R}$\n",
    "(in particular, the unique point which is in an open set in $\\mathcal{T}_\\mathbb{R}$ just by itself - the solution)\n",
    "and in other cases they are not enough."
   ]
  },
  {
   "cell_type": "markdown",
   "id": "567b12e6",
   "metadata": {},
   "source": [
    "We need 2 topologies that share the same topologically distinguished points:\n",
    "we need 2 topologies that are homotopy equivalent."
   ]
  },
  {
   "cell_type": "markdown",
   "id": "86602080",
   "metadata": {},
   "source": [
    "This is actually a lot simpler than it sounds:\n",
    "the topologically distinguished points in $\\mathcal{T}_\\mathcal{G}$\n",
    "in this sense and these spaces are just\n",
    "the sinks in the $\\mathfrak{M}$ graphs,\n",
    "and since in $\\mathcal{T}_\\mathbb{R}$ we only ever have one point in an open set by itself,\n",
    "we just need that the companion $\\mathfrak{M}$ graph has just one sink;\n",
    "This would put them in the same homotopy class."
   ]
  },
  {
   "cell_type": "markdown",
   "id": "dc560318",
   "metadata": {},
   "source": [
    "Note that I am here only using topology to understand in what cases these problems can and cannot be solved.\n",
    "It would also make sense to use this to explore how far certain instances are from being solvable,\n",
    "depending on some distance between homotopy classes;\n",
    "or to explore how many instances of each problem are there for each cardinality of  $\\mathbf{A}$,\n",
    "by counting homeomorphism classes."
   ]
  },
  {
   "cell_type": "markdown",
   "id": "6397272c",
   "metadata": {},
   "source": [
    "[Here](Python-6.ipynb) we can find some Python code to explore these ideas\n",
    "and check the homotopy classes for different types of problem, generating sets, and measures."
   ]
  },
  {
   "cell_type": "markdown",
   "id": "d439ccf1",
   "metadata": {},
   "source": [
    "## More complex generating sets?"
   ]
  },
  {
   "cell_type": "markdown",
   "id": "95b5aa71",
   "metadata": {},
   "source": [
    "So, all the information we have, with which we can define these graphs and topologies,\n",
    "is encapsulated for each instance of the problems in the measure function,\n",
    "and in the generating set we use to look for the solution."
   ]
  },
  {
   "cell_type": "markdown",
   "id": "8c0c8d33",
   "metadata": {},
   "source": [
    "It is easy to see that most generating sets provide a topology\n",
    "that is homotopy equivalent to $\\mathcal{T}_\\mathbb{R}$ in the case of instances of the SP\n",
    "(after all, sorting algorithms do work).\n",
    "Also easy to see that in the case of instances of the TSP,\n",
    "the usual generating sets do not do so (and so they just provide heuristics)."
   ]
  },
  {
   "cell_type": "markdown",
   "id": "add888ba",
   "metadata": {},
   "source": [
    "And so the question now is,\n",
    "can we find a sufficiently complex generating set $\\mathcal{G}$ for $\\mathcal{S}_n$\n",
    "that will provide a topology for any TSP instance\n",
    "that is in the same homotopy class as the $\\mathcal{T}_\\mathbb{R}$ topology provided by $\\psi$?\n",
    "Say, for example, 20-opt or something like that,\n",
    "in the same way that 2-opt is a heuristic for the SP but 3-opt solves it?"
   ]
  },
  {
   "cell_type": "markdown",
   "id": "890c9f31",
   "metadata": {},
   "source": [
    "We consider here that a more complex $\\mathcal{G}$ will essentially correspond to a higher $k$\n",
    "in the k-opt nomenclature; i.e., a more complex $\\mathcal{G}$ will break the tour into more pieces\n",
    "to be rearranged into new tours; until we arrive at n-opt, breaking the tour into $n$ pieces,\n",
    "and $\\mathcal{G} = \\mathcal{S}_n$ and we are back in the brute force algorithm."
   ]
  },
  {
   "cell_type": "markdown",
   "id": "84a83ad3",
   "metadata": {},
   "source": [
    "However, we can provide a method ([check the code here](Python-7.ipynb)) to build an instance of the TSP\n",
    "in which the 2 shortest tours are an arbitrary number of breaks away;\n",
    "i.e., that will require an arbitrarily complex $\\mathcal{G}$."
   ]
  },
  {
   "cell_type": "markdown",
   "id": "bd5f42f3",
   "metadata": {},
   "source": [
    "Therefore, we cannot find a unique $\\mathcal{G}$ to generally solve the TSP;\n",
    "we cannot vary $\\mathcal{G}$ to find a polynomial time algorithm to solve it."
   ]
  },
  {
   "cell_type": "markdown",
   "id": "031dac5d",
   "metadata": {},
   "source": [
    "## Manifolds?"
   ]
  },
  {
   "cell_type": "markdown",
   "id": "bac71c97",
   "metadata": {},
   "source": [
    "So the only other thing that remains that can be varied,\n",
    "so steer the heuristic approaches to the TSP into the realm of solutions,\n",
    "is the measure, $\\psi$.\n",
    "We can, for example, consider, as local data,\n",
    "not only the measure on some node,\n",
    "but also the measure on all its neighbouring nodes in the $\\mathfrak{G}$ graph.\n",
    "\n",
    "This would require in my opinion to stop considering the measure as just providing a topology,\n",
    "and start considering it as a *field* in the $\\mathfrak{G}$ graph (provided with the *graph topology*).\n",
    "We can then use discrete calculus to look at gradients and so on,\n",
    "and try to find some kind of smooth structure that might allow us to navigate the space\n",
    "with more finesse than just looking at continuous curves."
   ]
  },
  {
   "cell_type": "markdown",
   "id": "9e7ccf4b",
   "metadata": {},
   "source": [
    "This would enter the field of differential geometry.\n",
    "So how would this work.\n",
    "We would need that the field,\n",
    "which is just the measure applied on all the nodes,\n",
    "be somehow smooth in the graph topology,\n",
    "so that its local gradient can tell you something\n",
    "about the global field.\n",
    "The local gradient must happen in some kind of tangent space;\n",
    "and in our case the tangents to our continuous curves,\n",
    "as sequences of points,\n",
    "are the edges.\n",
    "So for the tangent space at each point we would have to consider the generating sets, $\\mathcal{G}$.\n",
    "Now, to have something approaching a finite manifold,\n",
    "in which we can define such a gradient to navigate such a field,\n",
    "we need the tangent spaces to have the same dimensionality as the base space.\n",
    "The spaces $\\mathcal{P}$ we are dealing with have $n$ $\\mathbb{F}_n$ dimensions\n",
    "(with the restriction that each dimension holds a different value)\n",
    "and so we need a $\\mathcal{G}$ that needs to be expressed in that dimension.\n",
    "And that basically suggests to me that the generating sets for the tangent spaces need be\n",
    "the full set of permutations.\n",
    "Or, in other words, the only $\\mathcal{G}$ that is not an arbitrary choice as tangent spaces\n",
    "for $\\mathcal{S}_n$ is $\\mathcal{S}_n$ itself;\n",
    "any other $\\mathcal{G}$ will not be able to be taken as a microscopic, or linearized,\n",
    "image of $\\mathcal{S}_n$.\n",
    "So my conclusion is that this would not provide an advantageous algorithm."
   ]
  },
  {
   "cell_type": "markdown",
   "id": "c462667d",
   "metadata": {},
   "source": [
    "I have made a few very inconclusive tests for this though,\n",
    "using machine learning to train models to distinguish tours that are the solution\n",
    "from tours that are a sink but not the solution,\n",
    "training them with all the local information available.\n",
    "\n",
    "Using contiguous transpositions as generating set,\n",
    "for instances of the TSP with 20 cities I am getting a confusion matrix\n",
    "(for instances of the problem that the model has never seen) like\n",
    "$\\left[\\begin{smallmatrix}61 & 39 \\\\\\\\ 26 & 74\\end{smallmatrix}\\right]$\n",
    "whereas for 30 cities I am getting\n",
    "$\\left[\\begin{smallmatrix}53 & 47 \\\\\\\\ 34 & 66\\end{smallmatrix}\\right]$.\n",
    "So it looks like for more cities we would need more complex generating sets,\n",
    "supporting my conjecture.\n",
    "\n",
    "This code is work in progress and the results are very preliminary\n",
    "(since I don't have access to that much computing power),\n",
    "but if anyone is interested I can clean it up and link it here."
   ]
  },
  {
   "cell_type": "markdown",
   "id": "ac77cea5",
   "metadata": {},
   "source": [
    "## References\n",
    "\n",
    "1. David S. Johnson and Lyle A. McGeoch \"The Traveling Salesman Problem: A Case Study in Local Optimization\", in \"Local Search in Combinatorial Optimization,\"  E. H. L. Aarts and J. K. Lenstra (eds.), John Wiley and Sons, London, 1997, pp. 215-310.\n",
    "\n",
    "2. https://en.wikipedia.org/wiki/Sorting_algorithm\n",
    "\n",
    "3. J. Peter May \"Finite Topological Spaces\" http://math.uchicago.edu/~may/FINITE/REUNotes2010/FiniteSpaces.pdf\n",
    "\n",
    "4. J. Peter May \"Various Papers on Finite Spaces\" http://math.uchicago.edu/~may/FINITE/"
   ]
  },
  {
   "cell_type": "markdown",
   "id": "2f8d2b47",
   "metadata": {},
   "source": [
     "All code licensed under the GPLv3. Copyright by Enrique Pablo Pérez Arnaud."
   ]
  }
 ],
 "metadata": {
  "kernelspec": {
   "display_name": "Python 3 (ipykernel)",
   "language": "python",
   "name": "python3"
  },
  "language_info": {
   "codemirror_mode": {
    "name": "ipython",
    "version": 3
   },
   "file_extension": ".py",
   "mimetype": "text/x-python",
   "name": "python",
   "nbconvert_exporter": "python",
   "pygments_lexer": "ipython3",
   "version": "3.9.5"
  }
 },
 "nbformat": 4,
 "nbformat_minor": 5
}
